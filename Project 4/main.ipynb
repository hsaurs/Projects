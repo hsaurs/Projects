{
 "cells": [
  {
   "cell_type": "code",
   "execution_count": null,
   "source": [
    "import re\r\n",
    "import glob\r\n",
    "import numpy as np\r\n",
    "from tqdm import tqdm\r\n",
    "from sklearn import preprocessing\r\n",
    "from sklearn.model_selection import train_test_split\r\n",
    "\r\n",
    "import matplotlib.pyplot as plt\r\n",
    "\r\n",
    "import tensorflow as tf\r\n",
    "from tensorflow.keras.utils import to_categorical\r\n",
    "from tensorflow.keras.preprocessing import image\r\n",
    "from tensorflow.keras.applications.mobilenet import MobileNet, preprocess_input\r\n",
    "from tensorflow.keras.preprocessing.image import ImageDataGenerator\r\n",
    "from tensorflow.keras.models import Sequential, Model\r\n",
    "from tensorflow.keras.layers import Dense, Dropout, Flatten, Activation, Conv2D, GlobalAveragePooling2D"
   ],
   "outputs": [],
   "metadata": {}
  },
  {
   "cell_type": "code",
   "execution_count": null,
   "source": [
    "files = glob.glob('C:/Users/Dan_Yoo/ds-cs-project1/images/*')\r\n",
    "_class = [x.split('/')[-1].replace('.jpg','') for x in files]"
   ],
   "outputs": [],
   "metadata": {}
  },
  {
   "cell_type": "code",
   "execution_count": null,
   "source": [
    "X = []\r\n",
    "for file_name in tqdm(files):\r\n",
    "    img = image.load_img(file_name, target_size = (100, 100))\r\n",
    "    v = image.img_to_array(img)\r\n",
    "    v = np.expand_dims(v, axis=0)\r\n",
    "    if len(X) > 0:\r\n",
    "        X = np.concatenate((X, v))\r\n",
    "    else:\r\n",
    "        X = v"
   ],
   "outputs": [],
   "metadata": {}
  },
  {
   "cell_type": "code",
   "execution_count": null,
   "source": [
    "p = re.compile(\"[^0-9]\")\r\n",
    "Y = [\"\".join(p.findall(x)) for x in _class]"
   ],
   "outputs": [],
   "metadata": {}
  },
  {
   "cell_type": "code",
   "execution_count": null,
   "source": [
    "X = tf.keras.applications.mobilenet.preprocess_input(X)"
   ],
   "outputs": [],
   "metadata": {}
  },
  {
   "cell_type": "code",
   "execution_count": null,
   "source": [
    "label_encoder = preprocessing.LabelEncoder()\r\n",
    "y = label_encoder.fit_transform(Y)\r\n",
    "Y = to_categorical(y)"
   ],
   "outputs": [],
   "metadata": {}
  },
  {
   "cell_type": "code",
   "execution_count": null,
   "source": [
    "X_train, X_test, Y_train, Y_test = train_test_split(X, Y, test_size = 0.2, random_state = 2021)"
   ],
   "outputs": [],
   "metadata": {}
  },
  {
   "cell_type": "code",
   "execution_count": null,
   "source": [
    "mobileNetModel = MobileNet(weights = 'imagenet', include_top = False)\r\n",
    "\r\n",
    "model = Sequential()\r\n",
    "model.add(mobileNetModel)\r\n",
    "model.add(GlobalAveragePooling2D())\r\n",
    "model.add(Dense(5, activation = 'softmax', kernel_initializer = 'he_normal'))\r\n",
    "model.compile(optimizer = 'adam', \r\n",
    "                loss = 'categorical_crossentropy', \r\n",
    "                metrics = ['acc']\r\n",
    "             )"
   ],
   "outputs": [],
   "metadata": {}
  },
  {
   "cell_type": "code",
   "execution_count": null,
   "source": [
    "history = model.fit(X_train, Y_train, \r\n",
    "                    batch_size = 64, \r\n",
    "                    epochs = 10, \r\n",
    "                    verbose = 1, \r\n",
    "                    validation_split = 0.2)"
   ],
   "outputs": [],
   "metadata": {}
  },
  {
   "cell_type": "code",
   "execution_count": null,
   "source": [
    "acc = model.evaluate(X_test, Y_test)\r\n",
    "print('Loss: {:0.3f} | Accuracy: {:0.3f}'.format(acc[0],acc[1]))\r\n",
    "\r\n",
    "loss = history.history['loss']\r\n",
    "val_loss = history.history['val_loss']\r\n",
    "acc = history.history['acc']\r\n",
    "val_acc = history.history['val_acc']\r\n",
    "\r\n",
    "epochs = range(1, len(loss) + 1)\r\n",
    "\r\n",
    "plt.figure(figsize = (13,5))\r\n",
    "plt.subplot(1,2,1)\r\n",
    "plt.plot(epochs, loss, 'r', label='Training loss')\r\n",
    "plt.plot(epochs, val_loss, 'b', label='Validation loss')\r\n",
    "plt.title('Training and validation loss')\r\n",
    "plt.xlabel('Epochs')\r\n",
    "plt.ylabel('Loss')\r\n",
    "plt.legend()\r\n",
    "\r\n",
    "plt.subplot(1,2,2)\r\n",
    "plt.plot(epochs, acc, 'r', label='accuracy')\r\n",
    "plt.plot(epochs, val_acc, 'b', label='Validation accuracy')\r\n",
    "plt.title('Accuracy and Validation accuracy')\r\n",
    "plt.xlabel('Epochs')\r\n",
    "plt.ylabel('Accuracy')\r\n",
    "plt.legend()\r\n",
    "\r\n",
    "plt.show()\r\n",
    "plt.close()"
   ],
   "outputs": [],
   "metadata": {}
  },
  {
   "cell_type": "code",
   "execution_count": null,
   "source": [
    "def pred(img_path):\r\n",
    "    img = image.load_img(img_path, target_size = (100, 100))\r\n",
    "    v = image.img_to_array(img)\r\n",
    "    v = np.expand_dims(v, axis=0)\r\n",
    "    X = tf.keras.applications.mobilenet.preprocess_input(v)\r\n",
    "    pred = model.predict(X)\r\n",
    "    prob = np.max(pred)\r\n",
    "    r = np.argmax(pred)\r\n",
    "    mylist = ['피자','치킨','스시','돈카츠','맥주']\r\n",
    "    dct = {k:v for k, v in enumerate(mylist)}\r\n",
    "    print ('pred:',dct[r])\r\n",
    "    print ('prob: {}%'.format(prob * 100))"
   ],
   "outputs": [],
   "metadata": {}
  },
  {
   "cell_type": "code",
   "execution_count": null,
   "source": [
    "pred('C:/Users/Dan_Yoo/ds-cs-project1/test/스시.jpg')"
   ],
   "outputs": [],
   "metadata": {}
  }
 ],
 "metadata": {
  "orig_nbformat": 4,
  "language_info": {
   "name": "python"
  }
 },
 "nbformat": 4,
 "nbformat_minor": 2
}
