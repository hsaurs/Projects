{
  "nbformat": 4,
  "nbformat_minor": 0,
  "metadata": {
    "colab": {
      "name": "AI_06_유형석_Project3.ipynb",
      "private_outputs": true,
      "provenance": [],
      "collapsed_sections": [],
      "authorship_tag": "ABX9TyOtIu7jDdmdltyaGh9Zcj5R",
      "include_colab_link": true
    },
    "kernelspec": {
      "name": "python3",
      "display_name": "Python 3"
    },
    "language_info": {
      "name": "python"
    }
  },
  "cells": [
    {
      "cell_type": "markdown",
      "metadata": {
        "id": "view-in-github",
        "colab_type": "text"
      },
      "source": [
        "<a href=\"https://colab.research.google.com/github/hsaurs/Projects/blob/main/AI_06_%EC%9C%A0%ED%98%95%EC%84%9D_Project3.ipynb\" target=\"_parent\"><img src=\"https://colab.research.google.com/assets/colab-badge.svg\" alt=\"Open In Colab\"/></a>"
      ]
    },
    {
      "cell_type": "code",
      "metadata": {
        "id": "M25UYHSpv0b4"
      },
      "source": [
        "import pandas as pd\n",
        "import numpy as np"
      ],
      "execution_count": null,
      "outputs": []
    },
    {
      "cell_type": "code",
      "metadata": {
        "id": "_CdE_5Dbv6Jx"
      },
      "source": [
        "from google.colab import drive\n",
        "drive.mount('/content/drive')"
      ],
      "execution_count": null,
      "outputs": []
    },
    {
      "cell_type": "code",
      "metadata": {
        "id": "e7JlHnZ-bwMg"
      },
      "source": [
        "import sqlite3\n",
        "\n",
        "con = sqlite3.connect(\"c:/Users/Dan_Yoo/ds-project/emplyee.sqlite3\")"
      ],
      "execution_count": null,
      "outputs": []
    },
    {
      "cell_type": "code",
      "metadata": {
        "id": "M4CMom3wxPAw"
      },
      "source": [
        "filename = '/content/drive/My Drive/CSV/Employee.csv'\n",
        "df = pd.read_csv(filename)\n",
        "df.head()"
      ],
      "execution_count": null,
      "outputs": []
    },
    {
      "cell_type": "code",
      "metadata": {
        "id": "7G79IXBqxgjP"
      },
      "source": [
        "df.shape"
      ],
      "execution_count": null,
      "outputs": []
    },
    {
      "cell_type": "code",
      "metadata": {
        "id": "46ciadUGxpNN"
      },
      "source": [
        "df.isna().sum()"
      ],
      "execution_count": null,
      "outputs": []
    },
    {
      "cell_type": "code",
      "metadata": {
        "id": "CNQN5mG8yOaJ"
      },
      "source": [
        "df['LeaveOrNot'].value_counts()"
      ],
      "execution_count": null,
      "outputs": []
    },
    {
      "cell_type": "code",
      "metadata": {
        "id": "sJj-7zOFyTki"
      },
      "source": [
        "##  baseline\n",
        "\n",
        "3053/(3053+1600)"
      ],
      "execution_count": null,
      "outputs": []
    },
    {
      "cell_type": "code",
      "metadata": {
        "id": "otuqIE12x-L6"
      },
      "source": [
        "for i in df.columns:\n",
        "    print(i,\":\",df[i].unique())"
      ],
      "execution_count": null,
      "outputs": []
    },
    {
      "cell_type": "code",
      "metadata": {
        "id": "EWwXEGq7ydpJ"
      },
      "source": [
        "from sklearn.model_selection import train_test_split\n",
        "train, val = train_test_split(df,test_size=.2, random_state=2)\n",
        "train.shape, val.shape"
      ],
      "execution_count": null,
      "outputs": []
    },
    {
      "cell_type": "code",
      "metadata": {
        "id": "WUduR6en39_3"
      },
      "source": [
        "!pip install category_encoders==2.*"
      ],
      "execution_count": null,
      "outputs": []
    },
    {
      "cell_type": "code",
      "metadata": {
        "id": "ADlmsH5P3x93"
      },
      "source": [
        "from category_encoders import OrdinalEncoder\n",
        "from sklearn.pipeline import make_pipeline\n",
        "\n",
        "target = 'LeaveOrNot'\n",
        "features = df.columns.drop([target,'LeaveOrNot'])\n",
        "X_train = train[features]\n",
        "y_train = train[target]\n",
        "X_val = val[features]\n",
        "y_val = val[target]"
      ],
      "execution_count": null,
      "outputs": []
    },
    {
      "cell_type": "code",
      "metadata": {
        "id": "jpKF7FG_4Hq1"
      },
      "source": [
        "## 1. DecisionTreeClassifier Model\n",
        "\n",
        "from sklearn.tree import DecisionTreeClassifier\n",
        "\n",
        "pipe1 = make_pipeline(\n",
        "    OrdinalEncoder(),\n",
        "    DecisionTreeClassifier(min_samples_leaf=10,max_depth=5,random_state=2)\n",
        ")\n",
        "\n",
        "pipe1.fit(X_train, y_train)\n",
        "print('검증 정확도: ', pipe1.score(X_val,y_val))"
      ],
      "execution_count": null,
      "outputs": []
    },
    {
      "cell_type": "code",
      "metadata": {
        "id": "aPi-BNef4KGE"
      },
      "source": [
        "## RandomizedSearchCV 사용 Hyperparameters 조정\n",
        "\n",
        "from sklearn.model_selection import RandomizedSearchCV\n",
        "from scipy.stats import randint, uniform\n",
        "\n",
        "dists = {\n",
        "    'decisiontreeclassifier__min_samples_leaf': randint(1, 50),\n",
        "    'decisiontreeclassifier__max_depth': randint(5,10),\n",
        "    'decisiontreeclassifier__min_samples_split': randint(1, 5),\n",
        "    'decisiontreeclassifier__max_features': uniform(0, 1)\n",
        "}\n",
        "\n",
        "clf1 = RandomizedSearchCV(\n",
        "    pipe1,\n",
        "    param_distributions=dists,\n",
        "    n_iter=50,\n",
        "    cv=3,\n",
        "    scoring='accuracy',\n",
        "    verbose=1,\n",
        "    n_jobs=-1\n",
        ")\n",
        "\n",
        "clf1.fit(X_train,y_train);\n",
        "print('최적 하이퍼파라미터: ', clf1.best_params_)"
      ],
      "execution_count": null,
      "outputs": []
    },
    {
      "cell_type": "code",
      "metadata": {
        "id": "bPARt1Pw4P8M"
      },
      "source": [
        "## Hyperparameters 조정된 모델 재학습 및 검증 정확도 산출 \n",
        "\n",
        "pipe1 = clf1.best_estimator_\n",
        "pipe1.fit(X_train,y_train)\n",
        "print('검증 정확도: ', pipe1.score(X_val,y_val))"
      ],
      "execution_count": null,
      "outputs": []
    },
    {
      "cell_type": "code",
      "metadata": {
        "id": "zhQWxb5a4R9V"
      },
      "source": [
        "## 2. RandomForestClassifier Model\n",
        "\n",
        "from sklearn.ensemble import RandomForestClassifier\n",
        "\n",
        "pipe2 = make_pipeline(\n",
        "    OrdinalEncoder(),\n",
        "    RandomForestClassifier(random_state=2)\n",
        ")\n",
        "\n",
        "pipe2.fit(X_train, y_train)\n",
        "print('검증 정확도: ', pipe2.score(X_val,y_val))"
      ],
      "execution_count": null,
      "outputs": []
    },
    {
      "cell_type": "code",
      "metadata": {
        "id": "w-1U5AV84TbK"
      },
      "source": [
        "## RandomizedSearchCV 사용 Hyperparameters 조정\n",
        "\n",
        "dists = {\n",
        "    'randomforestclassifier__n_estimators': randint(50, 500),\n",
        "    'randomforestclassifier__max_depth': [5, 10, 15, 20, None], \n",
        "    'randomforestclassifier__max_features': uniform(0, 1)\n",
        "}\n",
        "\n",
        "clf2 = RandomizedSearchCV(\n",
        "    pipe2,\n",
        "    param_distributions=dists,\n",
        "    n_iter=50,\n",
        "    cv=3,\n",
        "    scoring='accuracy',\n",
        "    verbose=1,\n",
        "    n_jobs=-1\n",
        ")\n",
        "\n",
        "clf2.fit(X_train,y_train);\n",
        "print('최적 하이퍼파라미터: ', clf2.best_params_)"
      ],
      "execution_count": null,
      "outputs": []
    },
    {
      "cell_type": "code",
      "metadata": {
        "id": "LtnhMu_W4toF"
      },
      "source": [
        "## Hyperparameters 조정된 모델 재학습 및 검증 정확도 산출 \n",
        "\n",
        "pipe2 = clf2.best_estimator_\n",
        "pipe2.fit(X_train,y_train)\n",
        "print('검증 정확도: ', pipe2.score(X_val,y_val))"
      ],
      "execution_count": null,
      "outputs": []
    },
    {
      "cell_type": "code",
      "metadata": {
        "id": "na89RrXy4VNt"
      },
      "source": [
        "##3. Gradient Boosting Model\n",
        "\n",
        "from xgboost import XGBClassifier\n",
        "\n",
        "pipe3 = make_pipeline(\n",
        "    OrdinalEncoder(),\n",
        "    XGBClassifier(random_state=2)\n",
        ")\n",
        "\n",
        "pipe3.fit(X_train, y_train)\n",
        "print('검증 정확도: ', pipe3.score(X_val,y_val))"
      ],
      "execution_count": null,
      "outputs": []
    },
    {
      "cell_type": "code",
      "metadata": {
        "id": "xq0Gtr7-4WrK"
      },
      "source": [
        "## RandomizedSearchCV 통해 Hyperparameters 조정\n",
        "\n",
        "dists = {\n",
        "    'xgbclassifier__n_estimators': randint(50,500),\n",
        "    'xgbclassifier__colsample_bytree': uniform(0.5,1),\n",
        "    'xgbclassifier__subsample': uniform(0.6,1),\n",
        "    'xgbclassifier__learning_rate': uniform(0,1),\n",
        "    'xgbclassifier__max_depth': [5, 10, 15, 20, None], \n",
        "}\n",
        "\n",
        "clf3 = RandomizedSearchCV(\n",
        "    pipe3,\n",
        "    param_distributions=dists,\n",
        "    n_iter=50,\n",
        "    cv=3,\n",
        "    scoring='accuracy',\n",
        "    verbose=1,\n",
        "    n_jobs=-1\n",
        ")\n",
        "\n",
        "clf3.fit(X_train,y_train);\n",
        "print('최적 하이퍼파라미터: ', clf3.best_params_)"
      ],
      "execution_count": null,
      "outputs": []
    },
    {
      "cell_type": "code",
      "metadata": {
        "id": "v9XBIuA947B4"
      },
      "source": [
        "## Hyperparameters 조정된 모델 재학습 및 검증 정확도 산출 \n",
        "\n",
        "pipe3 = clf3.best_estimator_\n",
        "pipe3.fit(X_train,y_train)\n",
        "print('검증 정확도: ', pipe3.score(X_val,y_val))"
      ],
      "execution_count": null,
      "outputs": []
    },
    {
      "cell_type": "code",
      "metadata": {
        "id": "QsAJswkU7QkZ"
      },
      "source": [
        "for i in df.columns:\n",
        "    print(i,\":\",df[i].unique())"
      ],
      "execution_count": null,
      "outputs": []
    },
    {
      "cell_type": "code",
      "metadata": {
        "id": "7qy14_8o6sNO"
      },
      "source": [
        "edu = input(\"최종 학력을 입력하세요('Bachelors' 'Masters' 'PHD' 중 택 1): \")"
      ],
      "execution_count": null,
      "outputs": []
    },
    {
      "cell_type": "code",
      "metadata": {
        "id": "rIKwzUPc69RW"
      },
      "source": [
        "joi = input(\"입사년도를 입력하세요(2012 ~ 2018 중 택 1): \")"
      ],
      "execution_count": null,
      "outputs": []
    },
    {
      "cell_type": "code",
      "metadata": {
        "id": "uVGN3XEa7F5s"
      },
      "source": [
        "cit = input(\"거주지를 입력하세요('Bangalore' 'Pune' 'New Delhi' 중 택 1): \")    "
      ],
      "execution_count": null,
      "outputs": []
    },
    {
      "cell_type": "code",
      "metadata": {
        "id": "NrV-LlnO7vNK"
      },
      "source": [
        "pay = input(\"Payment Tier을 입력하세요(1,2,3 중 택 1): \")"
      ],
      "execution_count": null,
      "outputs": []
    },
    {
      "cell_type": "code",
      "metadata": {
        "id": "oHDbIiCJ786F"
      },
      "source": [
        "age = input(\"나이를 입력하세요(24 ~ 41 중 택 1): \")"
      ],
      "execution_count": null,
      "outputs": []
    },
    {
      "cell_type": "code",
      "metadata": {
        "id": "KhQVLxlA8Ijk"
      },
      "source": [
        "gen = input(\"성별을 입력하세요('Male' 'Female' 중 택 1): \")"
      ],
      "execution_count": null,
      "outputs": []
    },
    {
      "cell_type": "code",
      "metadata": {
        "id": "ivy-CA5Z8anC"
      },
      "source": [
        "eve = input(\"프로젝트 경력 유무를 입력하세요('No' 'Yes 중 택 1): \")"
      ],
      "execution_count": null,
      "outputs": []
    },
    {
      "cell_type": "code",
      "metadata": {
        "id": "D1IPYfDj8vrf"
      },
      "source": [
        "exe = input(\"업계 경력을 입력하세요(0~7 중 택 1): \")"
      ],
      "execution_count": null,
      "outputs": []
    },
    {
      "cell_type": "code",
      "metadata": {
        "id": "BJ0P3DP8-H5a"
      },
      "source": [
        "row = X_train.iloc[[1]]\n",
        "row"
      ],
      "execution_count": null,
      "outputs": []
    },
    {
      "cell_type": "code",
      "metadata": {
        "id": "fMDSNZ51QCXD"
      },
      "source": [
        "raw_data = [[edu,joi,cit,pay,age,gen,eve,exe]]\n",
        "\n",
        "data = pd.DataFrame(raw_data,columns=df.columns.drop([target,'LeaveOrNot']))\n",
        "print(data)"
      ],
      "execution_count": null,
      "outputs": []
    },
    {
      "cell_type": "code",
      "metadata": {
        "id": "IIqPuOrj-fzg"
      },
      "source": [
        "if pipe2.predict(data) == [1]:\n",
        "    print(\"Employee will be moving\")\n",
        "elif pipe2.predict(data) == [0]:\n",
        "    print(\"Employee will be staying\")"
      ],
      "execution_count": null,
      "outputs": []
    }
  ]
}
