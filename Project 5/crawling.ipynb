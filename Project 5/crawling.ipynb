{
  "nbformat": 4,
  "nbformat_minor": 0,
  "metadata": {
    "colab": {
      "name": "crawling.ipynb",
      "private_outputs": true,
      "provenance": []
    },
    "kernelspec": {
      "name": "python3",
      "display_name": "Python 3"
    },
    "language_info": {
      "name": "python"
    }
  },
  "cells": [
    {
      "cell_type": "code",
      "execution_count": null,
      "metadata": {
        "id": "OpmO2Nzj1_p0"
      },
      "outputs": [],
      "source": [
        "# step1.프로젝트에 필요한 패키지 불러오기\n",
        "from bs4 import BeautifulSoup\n",
        "from selenium import webdriver\n",
        "from selenium.webdriver.common.keys import Keys\n",
        "import time\n",
        "import pandas as pd"
      ]
    },
    {
      "cell_type": "code",
      "source": [
        "# step2.로그인 정보 및 검색할 회사 미리 정의, 해당 회사의 리뷰 끝 페이지도 정의\n",
        "usr = \"hsaurs@gmail.com\"\n",
        "pwd = \"\"\n",
        "query = input()\n",
        "page = 10"
      ],
      "metadata": {
        "id": "l-YL_BRk2AlU"
      },
      "execution_count": null,
      "outputs": []
    },
    {
      "cell_type": "code",
      "source": [
        "# step3.크롬드라이버 실행 및 잡플래닛 로그인\n",
        "\n",
        "driver = webdriver.Chrome(chrome_driver)\n",
        "\n",
        "driver.get(\"https://www.jobplanet.co.kr/users/sign_in?_nav=gb\")\n",
        "time.sleep(5)\n",
        "\n",
        "login_id = driver.find_element(By.XPATH, '//*[@id=\"user_email\"]')\n",
        "login_id.send_keys(usr)\n",
        "\n",
        "login_pwd = driver.find_element(By.XPATH, '//*[@id=\"user_password\"]')\n",
        "login_pwd.send_keys(pwd)\n",
        "\n",
        "login_id.send_keys(Keys.RETURN)\n",
        "time.sleep(5)\n",
        "\n",
        "# step4.원하는 회사의 리뷰 페이지까지 이동\n",
        "search_query = driver.find_element(By.XPATH, '//*[@id=\"search_bar_search_query\"]')\n",
        "search_query.send_keys(query)\n",
        "search_query.send_keys(Keys.RETURN)\n",
        "time.sleep(3)\n",
        "\n",
        "driver.find_element(By.XPATH, '//*[@id=\"mainContents\"]/div[1]/div/div[2]/div[1]/div[1]/a').click()\n",
        "time.sleep(3)\n",
        "\n",
        "driver.find_element(By.XPATH, '//*[@id=\"viewCompaniesMenu\"]/ul/li[3]/a').click()\n",
        "time.sleep(15)\n",
        "\n",
        "driver.find_element(By.CSS_SELECTOR, \"button.btn_close_x_ty1 \").click()\n",
        "time.sleep(3)\n",
        "  \n",
        "# step6.크롤링한 정보를 담을 리스트명 정의\n",
        "\n",
        "list_stars = []\n",
        "list_merit = []\n",
        "list_disadvantages = []\n",
        "\n",
        "# step7.원하는 회사의 평점 및 장단점 크롤링 (for문으로 반복)\n",
        "for i in range(page): \n",
        "\n",
        "    #별점\n",
        "    stars = driver.find_elements_by_css_selector(\"div.star_score\")\n",
        "    for j in stars:\n",
        "        a = j.get_attribute('style')\n",
        "        if a[7:9] == '20':\n",
        "            list_stars.append(\"1점\")\n",
        "        elif a[7:9] == '40':\n",
        "            list_stars.append(\"2점\")\n",
        "        elif a[7:9] == '60':\n",
        "            list_stars.append(\"3점\")\n",
        "        elif a[7:9] == '80':\n",
        "            list_stars.append(\"4점\")\n",
        "        else:\n",
        "            list_stars.append(\"5점\")\n",
        "        \n",
        "    \n",
        "    #장점, 단점\n",
        "    list_review = []\n",
        "\n",
        "    review = driver.find_elements_by_css_selector(\"dd.df1\")\n",
        "\n",
        "    for j in review:\n",
        "        list_review.append(j.text)\n",
        "\n",
        "    for j in range(count):            #한 페이지에 정보 5set씩 나옴. 마지막 페이지는 5개 미만일 수 있으므로 count 변수를 반복횟수로 넣어줌.\n",
        "        a = list_review[3*j]\n",
        "        list_merit.append(a)\n",
        "        \n",
        "        b = list_review[3*j+1]\n",
        "        list_disadvantages.append(b)\n",
        "\n",
        "    # 다음 페이지 클릭 후 for문 진행, 끝 페이지에서 다음 페이지 클릭 안되는 것 대비해서 예외처리 구문 추가\n",
        "    try:\n",
        "        driver.find_element_by_css_selector(\"a.btn_pgnext\").click()\n",
        "        time.sleep(15)\n",
        "    except:\n",
        "        pass"
      ],
      "metadata": {
        "id": "6dO0_DLN2hbY"
      },
      "execution_count": null,
      "outputs": []
    },
    {
      "cell_type": "code",
      "source": [
        "# step8.pandas 라이브러리로 표 만들기\n",
        "total_data = pd.DataFrame()\n",
        "total_data['별점'] = pd.Series(list_stars)\n",
        "total_data['장점'] = pd.Series(list_merit)\n",
        "total_data['단점'] = pd.Series(list_disadvantages)"
      ],
      "metadata": {
        "id": "KGPFkgXG2Vuh"
      },
      "execution_count": null,
      "outputs": []
    },
    {
      "cell_type": "code",
      "source": [
        "total_data.to_excel(\"코드스테이츠 리뷰 총정리.xlsx\" ,index=True)"
      ],
      "metadata": {
        "id": "ryUv-MYK2dtO"
      },
      "execution_count": null,
      "outputs": []
    }
  ]
}