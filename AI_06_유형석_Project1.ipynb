{
  "nbformat": 4,
  "nbformat_minor": 0,
  "metadata": {
    "colab": {
      "name": "AI_06_유형석_Project1.ipynb",
      "provenance": [],
      "collapsed_sections": [],
      "authorship_tag": "ABX9TyPPo9VyWLC7NKgQJEZgoPUa",
      "include_colab_link": true
    },
    "kernelspec": {
      "name": "python3",
      "display_name": "Python 3"
    },
    "language_info": {
      "name": "python"
    }
  },
  "cells": [
    {
      "cell_type": "markdown",
      "metadata": {
        "id": "view-in-github",
        "colab_type": "text"
      },
      "source": [
        "<a href=\"https://colab.research.google.com/github/hsaurs/Projects/blob/main/AI_06_%EC%9C%A0%ED%98%95%EC%84%9D_Project1.ipynb\" target=\"_parent\"><img src=\"https://colab.research.google.com/assets/colab-badge.svg\" alt=\"Open In Colab\"/></a>"
      ]
    },
    {
      "cell_type": "code",
      "metadata": {
        "id": "X-HvqLzo0qqy"
      },
      "source": [
        "import pandas as pd\n",
        "import numpy as np\n",
        "import seaborn as sns\n",
        "import matplotlib.pyplot as plt\n"
      ],
      "execution_count": 2,
      "outputs": []
    },
    {
      "cell_type": "code",
      "metadata": {
        "colab": {
          "resources": {
            "http://localhost:8080/nbextensions/google.colab/files.js": {
              "data": "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",
              "ok": true,
              "headers": [
                [
                  "content-type",
                  "application/javascript"
                ]
              ],
              "status": 200,
              "status_text": ""
            }
          },
          "base_uri": "https://localhost:8080/",
          "height": 93
        },
        "id": "hm_bNnJf1Al5",
        "outputId": "4a2f33f3-ddac-44ce-df67-291c20339327"
      },
      "source": [
        "from google.colab import files\n",
        "uploaded = files.upload()"
      ],
      "execution_count": 3,
      "outputs": [
        {
          "output_type": "display_data",
          "data": {
            "text/html": [
              "\n",
              "     <input type=\"file\" id=\"files-0c4515b6-ef8c-42a3-81ec-35069e9166cc\" name=\"files[]\" multiple disabled\n",
              "        style=\"border:none\" />\n",
              "     <output id=\"result-0c4515b6-ef8c-42a3-81ec-35069e9166cc\">\n",
              "      Upload widget is only available when the cell has been executed in the\n",
              "      current browser session. Please rerun this cell to enable.\n",
              "      </output>\n",
              "      <script src=\"/nbextensions/google.colab/files.js\"></script> "
            ],
            "text/plain": [
              "<IPython.core.display.HTML object>"
            ]
          },
          "metadata": {
            "tags": []
          }
        },
        {
          "output_type": "stream",
          "text": [
            "Saving vgames2.xlsx to vgames2.xlsx\n"
          ],
          "name": "stdout"
        }
      ]
    },
    {
      "cell_type": "code",
      "metadata": {
        "id": "FoqKGABi1RFo"
      },
      "source": [
        "df = pd.read_excel('vgames2.xlsx')"
      ],
      "execution_count": 4,
      "outputs": []
    },
    {
      "cell_type": "code",
      "metadata": {
        "id": "wEG2WeMB1bc1"
      },
      "source": [
        "df = df.drop(['Unnamed: 0'],axis=1)"
      ],
      "execution_count": 5,
      "outputs": []
    },
    {
      "cell_type": "code",
      "metadata": {
        "id": "z8p2MkYqGPzg"
      },
      "source": [
        "def value_to_float(x):\n",
        "    if type(x) == float or type(x) == int:\n",
        "        return x\n",
        "    if 'K' in x:\n",
        "        if len(x) > 1:\n",
        "            return float(x.replace('K',''))* (1/1000)\n",
        "    if 'M' in x:\n",
        "        if len(x) > 1:\n",
        "            return float(x.replace('M',''))"
      ],
      "execution_count": 6,
      "outputs": []
    },
    {
      "cell_type": "code",
      "metadata": {
        "id": "N0BuyYMJHCl2"
      },
      "source": [
        "df['NA_Sales'] = df['NA_Sales'].apply(value_to_float)\n",
        "df['EU_Sales'] = df['EU_Sales'].apply(value_to_float)\n",
        "df['JP_Sales'] = df['JP_Sales'].apply(value_to_float)\n",
        "df['Other_Sales'] = df['Other_Sales'].apply(value_to_float)"
      ],
      "execution_count": 7,
      "outputs": []
    },
    {
      "cell_type": "code",
      "metadata": {
        "colab": {
          "base_uri": "https://localhost:8080/"
        },
        "id": "94rxspsCH1F1",
        "outputId": "c451fb48-653f-4e21-a147-c9edacac3003"
      },
      "source": [
        "df.isnull().sum()"
      ],
      "execution_count": 9,
      "outputs": [
        {
          "output_type": "execute_result",
          "data": {
            "text/plain": [
              "Name             0\n",
              "Platform         0\n",
              "Year           271\n",
              "Genre            0\n",
              "Publisher       58\n",
              "NA_Sales         0\n",
              "EU_Sales         0\n",
              "JP_Sales         0\n",
              "Other_Sales      0\n",
              "dtype: int64"
            ]
          },
          "metadata": {
            "tags": []
          },
          "execution_count": 9
        }
      ]
    },
    {
      "cell_type": "code",
      "metadata": {
        "id": "T24DypXDJIYs"
      },
      "source": [
        "def year(x):\n",
        "    if ((x <= 16)&(x>=0.0)):\n",
        "        return 2000 + x\n",
        "    elif ((x >= 86)&(x<=98)):\n",
        "        return 1900 + x\n",
        "    else:\n",
        "        return x"
      ],
      "execution_count": 10,
      "outputs": []
    },
    {
      "cell_type": "code",
      "metadata": {
        "id": "LEUFY15hrlXa"
      },
      "source": [
        "df['Year'] = df['Year'].apply(year)"
      ],
      "execution_count": 11,
      "outputs": []
    },
    {
      "cell_type": "code",
      "metadata": {
        "id": "skXXt3fe8fE9"
      },
      "source": [
        "df = df.dropna()"
      ],
      "execution_count": 13,
      "outputs": []
    },
    {
      "cell_type": "code",
      "metadata": {
        "colab": {
          "base_uri": "https://localhost:8080/"
        },
        "id": "yPDX_3THE9L-",
        "outputId": "dbaed1b9-9ece-4c1d-8f1c-52bee389bd74"
      },
      "source": [
        "df.isnull().sum()"
      ],
      "execution_count": 15,
      "outputs": [
        {
          "output_type": "execute_result",
          "data": {
            "text/plain": [
              "Name           0\n",
              "Platform       0\n",
              "Year           0\n",
              "Genre          0\n",
              "Publisher      0\n",
              "NA_Sales       0\n",
              "EU_Sales       0\n",
              "JP_Sales       0\n",
              "Other_Sales    0\n",
              "Total_Sales    0\n",
              "dtype: int64"
            ]
          },
          "metadata": {
            "tags": []
          },
          "execution_count": 15
        }
      ]
    },
    {
      "cell_type": "code",
      "metadata": {
        "colab": {
          "base_uri": "https://localhost:8080/",
          "height": 309
        },
        "id": "OCMiqJtTFM6P",
        "outputId": "68995763-50bb-4da7-a9f4-0d5e7869fc60"
      },
      "source": [
        "df['Total_Sales'] = df['NA_Sales']+df['EU_Sales']+df['JP_Sales']+df['Other_Sales']\n",
        "df.head()"
      ],
      "execution_count": 14,
      "outputs": [
        {
          "output_type": "execute_result",
          "data": {
            "text/html": [
              "<div>\n",
              "<style scoped>\n",
              "    .dataframe tbody tr th:only-of-type {\n",
              "        vertical-align: middle;\n",
              "    }\n",
              "\n",
              "    .dataframe tbody tr th {\n",
              "        vertical-align: top;\n",
              "    }\n",
              "\n",
              "    .dataframe thead th {\n",
              "        text-align: right;\n",
              "    }\n",
              "</style>\n",
              "<table border=\"1\" class=\"dataframe\">\n",
              "  <thead>\n",
              "    <tr style=\"text-align: right;\">\n",
              "      <th></th>\n",
              "      <th>Name</th>\n",
              "      <th>Platform</th>\n",
              "      <th>Year</th>\n",
              "      <th>Genre</th>\n",
              "      <th>Publisher</th>\n",
              "      <th>NA_Sales</th>\n",
              "      <th>EU_Sales</th>\n",
              "      <th>JP_Sales</th>\n",
              "      <th>Other_Sales</th>\n",
              "      <th>Total_Sales</th>\n",
              "    </tr>\n",
              "  </thead>\n",
              "  <tbody>\n",
              "    <tr>\n",
              "      <th>0</th>\n",
              "      <td>Wii Sports</td>\n",
              "      <td>Wii</td>\n",
              "      <td>2006.0</td>\n",
              "      <td>Sports</td>\n",
              "      <td>Nintendo</td>\n",
              "      <td>41.49</td>\n",
              "      <td>29.02</td>\n",
              "      <td>3.77</td>\n",
              "      <td>8.46</td>\n",
              "      <td>82.74</td>\n",
              "    </tr>\n",
              "    <tr>\n",
              "      <th>1</th>\n",
              "      <td>Super Mario Bros.</td>\n",
              "      <td>NES</td>\n",
              "      <td>1985.0</td>\n",
              "      <td>Platform</td>\n",
              "      <td>Nintendo</td>\n",
              "      <td>29.08</td>\n",
              "      <td>3.58</td>\n",
              "      <td>6.81</td>\n",
              "      <td>0.77</td>\n",
              "      <td>40.24</td>\n",
              "    </tr>\n",
              "    <tr>\n",
              "      <th>2</th>\n",
              "      <td>Mario Kart Wii</td>\n",
              "      <td>Wii</td>\n",
              "      <td>2008.0</td>\n",
              "      <td>Racing</td>\n",
              "      <td>Nintendo</td>\n",
              "      <td>15.85</td>\n",
              "      <td>12.88</td>\n",
              "      <td>3.79</td>\n",
              "      <td>3.31</td>\n",
              "      <td>35.83</td>\n",
              "    </tr>\n",
              "    <tr>\n",
              "      <th>3</th>\n",
              "      <td>Wii Sports Resort</td>\n",
              "      <td>Wii</td>\n",
              "      <td>2009.0</td>\n",
              "      <td>Sports</td>\n",
              "      <td>Nintendo</td>\n",
              "      <td>15.75</td>\n",
              "      <td>11.01</td>\n",
              "      <td>3.28</td>\n",
              "      <td>2.96</td>\n",
              "      <td>33.00</td>\n",
              "    </tr>\n",
              "    <tr>\n",
              "      <th>4</th>\n",
              "      <td>Pokemon Red/Pokemon Blue</td>\n",
              "      <td>GB</td>\n",
              "      <td>1996.0</td>\n",
              "      <td>Role-Playing</td>\n",
              "      <td>Nintendo</td>\n",
              "      <td>11.27</td>\n",
              "      <td>8.89</td>\n",
              "      <td>10.22</td>\n",
              "      <td>1.00</td>\n",
              "      <td>31.38</td>\n",
              "    </tr>\n",
              "  </tbody>\n",
              "</table>\n",
              "</div>"
            ],
            "text/plain": [
              "                       Name Platform  ...  Other_Sales Total_Sales\n",
              "0                Wii Sports      Wii  ...         8.46       82.74\n",
              "1         Super Mario Bros.      NES  ...         0.77       40.24\n",
              "2            Mario Kart Wii      Wii  ...         3.31       35.83\n",
              "3         Wii Sports Resort      Wii  ...         2.96       33.00\n",
              "4  Pokemon Red/Pokemon Blue       GB  ...         1.00       31.38\n",
              "\n",
              "[5 rows x 10 columns]"
            ]
          },
          "metadata": {
            "tags": []
          },
          "execution_count": 14
        }
      ]
    },
    {
      "cell_type": "code",
      "metadata": {
        "colab": {
          "base_uri": "https://localhost:8080/"
        },
        "id": "5CYX_2g11_M0",
        "outputId": "e49c620c-7685-4575-c7b7-bd4d53a8c880"
      },
      "source": [
        "df['Genre'].unique()"
      ],
      "execution_count": 8,
      "outputs": [
        {
          "output_type": "execute_result",
          "data": {
            "text/plain": [
              "array(['Sports', 'Platform', 'Racing', 'Role-Playing', 'Puzzle', 'Misc',\n",
              "       'Shooter', 'Simulation', 'Action', 'Fighting', 'Adventure',\n",
              "       'Strategy'], dtype=object)"
            ]
          },
          "metadata": {
            "tags": []
          },
          "execution_count": 8
        }
      ]
    },
    {
      "cell_type": "code",
      "metadata": {
        "id": "IN6OUUWeilFD"
      },
      "source": [
        "labels = ['Sports', 'Platform', 'Racing', 'Role-Playing', 'Puzzle', 'Misc',\n",
        "       'Shooter', 'Simulation', 'Action', 'Fighting', 'Adventure', 'Strategy']"
      ],
      "execution_count": 16,
      "outputs": []
    },
    {
      "cell_type": "code",
      "metadata": {
        "colab": {
          "base_uri": "https://localhost:8080/",
          "height": 452
        },
        "id": "iW7RYDhFjRWH",
        "outputId": "12ac10c5-4f2a-4ac2-83d8-de62b3fcd6c3"
      },
      "source": [
        "dfg = df.groupby('Genre').sum()\n",
        "dfg = dfg.drop(['Year'],axis=1)\n",
        "NA = dfg['NA_Sales']\n",
        "EU = dfg['EU_Sales']\n",
        "JP = dfg['JP_Sales']\n",
        "OT = dfg['Other_Sales']\n",
        "dfg"
      ],
      "execution_count": 78,
      "outputs": [
        {
          "output_type": "execute_result",
          "data": {
            "text/html": [
              "<div>\n",
              "<style scoped>\n",
              "    .dataframe tbody tr th:only-of-type {\n",
              "        vertical-align: middle;\n",
              "    }\n",
              "\n",
              "    .dataframe tbody tr th {\n",
              "        vertical-align: top;\n",
              "    }\n",
              "\n",
              "    .dataframe thead th {\n",
              "        text-align: right;\n",
              "    }\n",
              "</style>\n",
              "<table border=\"1\" class=\"dataframe\">\n",
              "  <thead>\n",
              "    <tr style=\"text-align: right;\">\n",
              "      <th></th>\n",
              "      <th>NA_Sales</th>\n",
              "      <th>EU_Sales</th>\n",
              "      <th>JP_Sales</th>\n",
              "      <th>Other_Sales</th>\n",
              "      <th>Total_Sales</th>\n",
              "    </tr>\n",
              "    <tr>\n",
              "      <th>Genre</th>\n",
              "      <th></th>\n",
              "      <th></th>\n",
              "      <th></th>\n",
              "      <th></th>\n",
              "      <th></th>\n",
              "    </tr>\n",
              "  </thead>\n",
              "  <tbody>\n",
              "    <tr>\n",
              "      <th>Action</th>\n",
              "      <td>860.03</td>\n",
              "      <td>514.43</td>\n",
              "      <td>158.31</td>\n",
              "      <td>184.79</td>\n",
              "      <td>1717.56</td>\n",
              "    </tr>\n",
              "    <tr>\n",
              "      <th>Adventure</th>\n",
              "      <td>102.20</td>\n",
              "      <td>64.58</td>\n",
              "      <td>51.90</td>\n",
              "      <td>16.81</td>\n",
              "      <td>235.49</td>\n",
              "    </tr>\n",
              "    <tr>\n",
              "      <th>Fighting</th>\n",
              "      <td>220.74</td>\n",
              "      <td>100.00</td>\n",
              "      <td>87.15</td>\n",
              "      <td>36.19</td>\n",
              "      <td>444.08</td>\n",
              "    </tr>\n",
              "    <tr>\n",
              "      <th>Misc</th>\n",
              "      <td>394.73</td>\n",
              "      <td>208.15</td>\n",
              "      <td>104.18</td>\n",
              "      <td>72.64</td>\n",
              "      <td>779.70</td>\n",
              "    </tr>\n",
              "    <tr>\n",
              "      <th>Platform</th>\n",
              "      <td>445.38</td>\n",
              "      <td>200.63</td>\n",
              "      <td>130.53</td>\n",
              "      <td>51.45</td>\n",
              "      <td>827.99</td>\n",
              "    </tr>\n",
              "    <tr>\n",
              "      <th>Puzzle</th>\n",
              "      <td>121.76</td>\n",
              "      <td>50.47</td>\n",
              "      <td>56.29</td>\n",
              "      <td>12.45</td>\n",
              "      <td>240.97</td>\n",
              "    </tr>\n",
              "    <tr>\n",
              "      <th>Racing</th>\n",
              "      <td>356.90</td>\n",
              "      <td>236.31</td>\n",
              "      <td>56.61</td>\n",
              "      <td>76.68</td>\n",
              "      <td>726.50</td>\n",
              "    </tr>\n",
              "    <tr>\n",
              "      <th>Role-Playing</th>\n",
              "      <td>327.46</td>\n",
              "      <td>188.32</td>\n",
              "      <td>350.55</td>\n",
              "      <td>59.74</td>\n",
              "      <td>926.07</td>\n",
              "    </tr>\n",
              "    <tr>\n",
              "      <th>Shooter</th>\n",
              "      <td>574.58</td>\n",
              "      <td>310.23</td>\n",
              "      <td>38.18</td>\n",
              "      <td>101.87</td>\n",
              "      <td>1024.86</td>\n",
              "    </tr>\n",
              "    <tr>\n",
              "      <th>Simulation</th>\n",
              "      <td>181.43</td>\n",
              "      <td>112.99</td>\n",
              "      <td>63.54</td>\n",
              "      <td>31.32</td>\n",
              "      <td>389.28</td>\n",
              "    </tr>\n",
              "    <tr>\n",
              "      <th>Sports</th>\n",
              "      <td>670.12</td>\n",
              "      <td>371.34</td>\n",
              "      <td>134.76</td>\n",
              "      <td>132.65</td>\n",
              "      <td>1308.87</td>\n",
              "    </tr>\n",
              "    <tr>\n",
              "      <th>Strategy</th>\n",
              "      <td>67.88</td>\n",
              "      <td>44.85</td>\n",
              "      <td>49.10</td>\n",
              "      <td>11.23</td>\n",
              "      <td>173.06</td>\n",
              "    </tr>\n",
              "  </tbody>\n",
              "</table>\n",
              "</div>"
            ],
            "text/plain": [
              "              NA_Sales  EU_Sales  JP_Sales  Other_Sales  Total_Sales\n",
              "Genre                                                               \n",
              "Action          860.03    514.43    158.31       184.79      1717.56\n",
              "Adventure       102.20     64.58     51.90        16.81       235.49\n",
              "Fighting        220.74    100.00     87.15        36.19       444.08\n",
              "Misc            394.73    208.15    104.18        72.64       779.70\n",
              "Platform        445.38    200.63    130.53        51.45       827.99\n",
              "Puzzle          121.76     50.47     56.29        12.45       240.97\n",
              "Racing          356.90    236.31     56.61        76.68       726.50\n",
              "Role-Playing    327.46    188.32    350.55        59.74       926.07\n",
              "Shooter         574.58    310.23     38.18       101.87      1024.86\n",
              "Simulation      181.43    112.99     63.54        31.32       389.28\n",
              "Sports          670.12    371.34    134.76       132.65      1308.87\n",
              "Strategy         67.88     44.85     49.10        11.23       173.06"
            ]
          },
          "metadata": {
            "tags": []
          },
          "execution_count": 78
        }
      ]
    },
    {
      "cell_type": "code",
      "metadata": {
        "id": "PQgwBa_R7DMm"
      },
      "source": [
        "## 판매량과 게임 선호도가 비례한다 가정했을 때 지역 별 선호 게임 장르가 다르다."
      ],
      "execution_count": null,
      "outputs": []
    },
    {
      "cell_type": "code",
      "metadata": {
        "colab": {
          "base_uri": "https://localhost:8080/",
          "height": 331
        },
        "id": "jDeq0hie2jIy",
        "outputId": "d52ecb81-9745-423a-db96-359cb5da58a8"
      },
      "source": [
        "NA.sort_values(ascending=False).plot.bar()\n",
        "plt.show()"
      ],
      "execution_count": 90,
      "outputs": [
        {
          "output_type": "display_data",
          "data": {
            "image/png": "[encoded data removed]",
            "text/plain": [
              "<Figure size 432x288 with 1 Axes>"
            ]
          },
          "metadata": {
            "tags": [],
            "needs_background": "light"
          }
        }
      ]
    },
    {
      "cell_type": "code",
      "metadata": {
        "colab": {
          "base_uri": "https://localhost:8080/",
          "height": 331
        },
        "id": "39wvkcyMpSrZ",
        "outputId": "c51cc333-72e1-45f0-8fb8-37a87dc67d89"
      },
      "source": [
        "EU.sort_values(ascending=False).plot.bar()\n",
        "plt.show()"
      ],
      "execution_count": 88,
      "outputs": [
        {
          "output_type": "display_data",
          "data": {
            "image/png": "[encoded data removed]",
            "text/plain": [
              "<Figure size 432x288 with 1 Axes>"
            ]
          },
          "metadata": {
            "tags": [],
            "needs_background": "light"
          }
        }
      ]
    },
    {
      "cell_type": "code",
      "metadata": {
        "colab": {
          "base_uri": "https://localhost:8080/",
          "height": 331
        },
        "id": "c18YB1-Ho_wu",
        "outputId": "0f42f37c-a0d9-475d-bfca-08227ef61926"
      },
      "source": [
        "JP.sort_values(ascending=False).plot.bar()\n",
        "plt.show()"
      ],
      "execution_count": 89,
      "outputs": [
        {
          "output_type": "display_data",
          "data": {
            "image/png": "[encoded data removed]",
            "text/plain": [
              "<Figure size 432x288 with 1 Axes>"
            ]
          },
          "metadata": {
            "tags": [],
            "needs_background": "light"
          }
        }
      ]
    },
    {
      "cell_type": "code",
      "metadata": {
        "colab": {
          "base_uri": "https://localhost:8080/",
          "height": 331
        },
        "id": "piyp2QEDpYzq",
        "outputId": "6edcefc7-4d57-4e1f-abbd-6a0de22cd2eb"
      },
      "source": [
        "OT.sort_values(ascending=False).plot.bar()\n",
        "plt.show()"
      ],
      "execution_count": 91,
      "outputs": [
        {
          "output_type": "display_data",
          "data": {
            "image/png": "[encoded data removed]",
            "text/plain": [
              "<Figure size 432x288 with 1 Axes>"
            ]
          },
          "metadata": {
            "tags": [],
            "needs_background": "light"
          }
        }
      ]
    },
    {
      "cell_type": "code",
      "metadata": {
        "colab": {
          "base_uri": "https://localhost:8080/",
          "height": 452
        },
        "id": "xDBJvevSqlis",
        "outputId": "b7aa6564-db5e-43ee-85c3-6ada102c81c2"
      },
      "source": [
        "dfg1 = dfg\n",
        "dfg1 = dfg1.drop(['Total_Sales'],axis=1)\n",
        "dfg1"
      ],
      "execution_count": 35,
      "outputs": [
        {
          "output_type": "execute_result",
          "data": {
            "text/html": [
              "<div>\n",
              "<style scoped>\n",
              "    .dataframe tbody tr th:only-of-type {\n",
              "        vertical-align: middle;\n",
              "    }\n",
              "\n",
              "    .dataframe tbody tr th {\n",
              "        vertical-align: top;\n",
              "    }\n",
              "\n",
              "    .dataframe thead th {\n",
              "        text-align: right;\n",
              "    }\n",
              "</style>\n",
              "<table border=\"1\" class=\"dataframe\">\n",
              "  <thead>\n",
              "    <tr style=\"text-align: right;\">\n",
              "      <th></th>\n",
              "      <th>NA_Sales</th>\n",
              "      <th>EU_Sales</th>\n",
              "      <th>JP_Sales</th>\n",
              "      <th>Other_Sales</th>\n",
              "    </tr>\n",
              "    <tr>\n",
              "      <th>Genre</th>\n",
              "      <th></th>\n",
              "      <th></th>\n",
              "      <th></th>\n",
              "      <th></th>\n",
              "    </tr>\n",
              "  </thead>\n",
              "  <tbody>\n",
              "    <tr>\n",
              "      <th>Action</th>\n",
              "      <td>860.03</td>\n",
              "      <td>514.43</td>\n",
              "      <td>158.31</td>\n",
              "      <td>184.79</td>\n",
              "    </tr>\n",
              "    <tr>\n",
              "      <th>Adventure</th>\n",
              "      <td>102.20</td>\n",
              "      <td>64.58</td>\n",
              "      <td>51.90</td>\n",
              "      <td>16.81</td>\n",
              "    </tr>\n",
              "    <tr>\n",
              "      <th>Fighting</th>\n",
              "      <td>220.74</td>\n",
              "      <td>100.00</td>\n",
              "      <td>87.15</td>\n",
              "      <td>36.19</td>\n",
              "    </tr>\n",
              "    <tr>\n",
              "      <th>Misc</th>\n",
              "      <td>394.73</td>\n",
              "      <td>208.15</td>\n",
              "      <td>104.18</td>\n",
              "      <td>72.64</td>\n",
              "    </tr>\n",
              "    <tr>\n",
              "      <th>Platform</th>\n",
              "      <td>445.38</td>\n",
              "      <td>200.63</td>\n",
              "      <td>130.53</td>\n",
              "      <td>51.45</td>\n",
              "    </tr>\n",
              "    <tr>\n",
              "      <th>Puzzle</th>\n",
              "      <td>121.76</td>\n",
              "      <td>50.47</td>\n",
              "      <td>56.29</td>\n",
              "      <td>12.45</td>\n",
              "    </tr>\n",
              "    <tr>\n",
              "      <th>Racing</th>\n",
              "      <td>356.90</td>\n",
              "      <td>236.31</td>\n",
              "      <td>56.61</td>\n",
              "      <td>76.68</td>\n",
              "    </tr>\n",
              "    <tr>\n",
              "      <th>Role-Playing</th>\n",
              "      <td>327.46</td>\n",
              "      <td>188.32</td>\n",
              "      <td>350.55</td>\n",
              "      <td>59.74</td>\n",
              "    </tr>\n",
              "    <tr>\n",
              "      <th>Shooter</th>\n",
              "      <td>574.58</td>\n",
              "      <td>310.23</td>\n",
              "      <td>38.18</td>\n",
              "      <td>101.87</td>\n",
              "    </tr>\n",
              "    <tr>\n",
              "      <th>Simulation</th>\n",
              "      <td>181.43</td>\n",
              "      <td>112.99</td>\n",
              "      <td>63.54</td>\n",
              "      <td>31.32</td>\n",
              "    </tr>\n",
              "    <tr>\n",
              "      <th>Sports</th>\n",
              "      <td>670.12</td>\n",
              "      <td>371.34</td>\n",
              "      <td>134.76</td>\n",
              "      <td>132.65</td>\n",
              "    </tr>\n",
              "    <tr>\n",
              "      <th>Strategy</th>\n",
              "      <td>67.88</td>\n",
              "      <td>44.85</td>\n",
              "      <td>49.10</td>\n",
              "      <td>11.23</td>\n",
              "    </tr>\n",
              "  </tbody>\n",
              "</table>\n",
              "</div>"
            ],
            "text/plain": [
              "              NA_Sales  EU_Sales  JP_Sales  Other_Sales\n",
              "Genre                                                  \n",
              "Action          860.03    514.43    158.31       184.79\n",
              "Adventure       102.20     64.58     51.90        16.81\n",
              "Fighting        220.74    100.00     87.15        36.19\n",
              "Misc            394.73    208.15    104.18        72.64\n",
              "Platform        445.38    200.63    130.53        51.45\n",
              "Puzzle          121.76     50.47     56.29        12.45\n",
              "Racing          356.90    236.31     56.61        76.68\n",
              "Role-Playing    327.46    188.32    350.55        59.74\n",
              "Shooter         574.58    310.23     38.18       101.87\n",
              "Simulation      181.43    112.99     63.54        31.32\n",
              "Sports          670.12    371.34    134.76       132.65\n",
              "Strategy         67.88     44.85     49.10        11.23"
            ]
          },
          "metadata": {
            "tags": []
          },
          "execution_count": 35
        }
      ]
    },
    {
      "cell_type": "code",
      "metadata": {
        "colab": {
          "base_uri": "https://localhost:8080/"
        },
        "id": "EhI0ruC4qy7a",
        "outputId": "09a843fb-e1e3-40c7-b433-7c68471a3988"
      },
      "source": [
        "from scipy import stats\n",
        "stat, p, dof, expected = stats.chi2_contingency(dfg1)\n",
        "p"
      ],
      "execution_count": 114,
      "outputs": [
        {
          "output_type": "execute_result",
          "data": {
            "text/plain": [
              "3.696754422481658e-123"
            ]
          },
          "metadata": {
            "tags": []
          },
          "execution_count": 114
        }
      ]
    },
    {
      "cell_type": "code",
      "metadata": {
        "colab": {
          "base_uri": "https://localhost:8080/",
          "height": 309
        },
        "id": "MUvdl7jBrn-W",
        "outputId": "f800adb1-268b-4430-8fe9-0fce36f88556"
      },
      "source": [
        "df.head()"
      ],
      "execution_count": 39,
      "outputs": [
        {
          "output_type": "execute_result",
          "data": {
            "text/html": [
              "<div>\n",
              "<style scoped>\n",
              "    .dataframe tbody tr th:only-of-type {\n",
              "        vertical-align: middle;\n",
              "    }\n",
              "\n",
              "    .dataframe tbody tr th {\n",
              "        vertical-align: top;\n",
              "    }\n",
              "\n",
              "    .dataframe thead th {\n",
              "        text-align: right;\n",
              "    }\n",
              "</style>\n",
              "<table border=\"1\" class=\"dataframe\">\n",
              "  <thead>\n",
              "    <tr style=\"text-align: right;\">\n",
              "      <th></th>\n",
              "      <th>Name</th>\n",
              "      <th>Platform</th>\n",
              "      <th>Year</th>\n",
              "      <th>Genre</th>\n",
              "      <th>Publisher</th>\n",
              "      <th>NA_Sales</th>\n",
              "      <th>EU_Sales</th>\n",
              "      <th>JP_Sales</th>\n",
              "      <th>Other_Sales</th>\n",
              "      <th>Total_Sales</th>\n",
              "    </tr>\n",
              "  </thead>\n",
              "  <tbody>\n",
              "    <tr>\n",
              "      <th>0</th>\n",
              "      <td>Wii Sports</td>\n",
              "      <td>Wii</td>\n",
              "      <td>2006.0</td>\n",
              "      <td>Sports</td>\n",
              "      <td>Nintendo</td>\n",
              "      <td>41.49</td>\n",
              "      <td>29.02</td>\n",
              "      <td>3.77</td>\n",
              "      <td>8.46</td>\n",
              "      <td>82.74</td>\n",
              "    </tr>\n",
              "    <tr>\n",
              "      <th>1</th>\n",
              "      <td>Super Mario Bros.</td>\n",
              "      <td>NES</td>\n",
              "      <td>1985.0</td>\n",
              "      <td>Platform</td>\n",
              "      <td>Nintendo</td>\n",
              "      <td>29.08</td>\n",
              "      <td>3.58</td>\n",
              "      <td>6.81</td>\n",
              "      <td>0.77</td>\n",
              "      <td>40.24</td>\n",
              "    </tr>\n",
              "    <tr>\n",
              "      <th>2</th>\n",
              "      <td>Mario Kart Wii</td>\n",
              "      <td>Wii</td>\n",
              "      <td>2008.0</td>\n",
              "      <td>Racing</td>\n",
              "      <td>Nintendo</td>\n",
              "      <td>15.85</td>\n",
              "      <td>12.88</td>\n",
              "      <td>3.79</td>\n",
              "      <td>3.31</td>\n",
              "      <td>35.83</td>\n",
              "    </tr>\n",
              "    <tr>\n",
              "      <th>3</th>\n",
              "      <td>Wii Sports Resort</td>\n",
              "      <td>Wii</td>\n",
              "      <td>2009.0</td>\n",
              "      <td>Sports</td>\n",
              "      <td>Nintendo</td>\n",
              "      <td>15.75</td>\n",
              "      <td>11.01</td>\n",
              "      <td>3.28</td>\n",
              "      <td>2.96</td>\n",
              "      <td>33.00</td>\n",
              "    </tr>\n",
              "    <tr>\n",
              "      <th>4</th>\n",
              "      <td>Pokemon Red/Pokemon Blue</td>\n",
              "      <td>GB</td>\n",
              "      <td>1996.0</td>\n",
              "      <td>Role-Playing</td>\n",
              "      <td>Nintendo</td>\n",
              "      <td>11.27</td>\n",
              "      <td>8.89</td>\n",
              "      <td>10.22</td>\n",
              "      <td>1.00</td>\n",
              "      <td>31.38</td>\n",
              "    </tr>\n",
              "  </tbody>\n",
              "</table>\n",
              "</div>"
            ],
            "text/plain": [
              "                       Name Platform  ...  Other_Sales Total_Sales\n",
              "0                Wii Sports      Wii  ...         8.46       82.74\n",
              "1         Super Mario Bros.      NES  ...         0.77       40.24\n",
              "2            Mario Kart Wii      Wii  ...         3.31       35.83\n",
              "3         Wii Sports Resort      Wii  ...         2.96       33.00\n",
              "4  Pokemon Red/Pokemon Blue       GB  ...         1.00       31.38\n",
              "\n",
              "[5 rows x 10 columns]"
            ]
          },
          "metadata": {
            "tags": []
          },
          "execution_count": 39
        }
      ]
    },
    {
      "cell_type": "code",
      "metadata": {
        "colab": {
          "base_uri": "https://localhost:8080/"
        },
        "id": "hFW3hzlD5jHI",
        "outputId": "9c02a3a0-2cd1-4e24-e0cc-40f2cf955fa4"
      },
      "source": [
        "dfy.columns"
      ],
      "execution_count": 106,
      "outputs": [
        {
          "output_type": "execute_result",
          "data": {
            "text/plain": [
              "Float64Index([1980.0, 1981.0, 1982.0, 1983.0, 1984.0, 1985.0, 1986.0, 1987.0,\n",
              "              1988.0, 1989.0, 1990.0, 1991.0, 1992.0, 1993.0, 1994.0, 1995.0,\n",
              "              1996.0, 1997.0, 1998.0, 1999.0, 2000.0, 2001.0, 2002.0, 2003.0,\n",
              "              2004.0, 2005.0, 2006.0, 2007.0, 2008.0, 2009.0, 2010.0, 2011.0,\n",
              "              2012.0, 2013.0, 2014.0, 2015.0, 2016.0, 2017.0, 2020.0],\n",
              "             dtype='float64', name='Year')"
            ]
          },
          "metadata": {
            "tags": []
          },
          "execution_count": 106
        }
      ]
    },
    {
      "cell_type": "code",
      "metadata": {
        "colab": {
          "base_uri": "https://localhost:8080/",
          "height": 489
        },
        "id": "5sPQOqk1CeHx",
        "outputId": "ba5f1735-6616-4567-9edd-5436a69fa7bb"
      },
      "source": [
        "dfy"
      ],
      "execution_count": 140,
      "outputs": [
        {
          "output_type": "execute_result",
          "data": {
            "text/html": [
              "<div>\n",
              "<style scoped>\n",
              "    .dataframe tbody tr th:only-of-type {\n",
              "        vertical-align: middle;\n",
              "    }\n",
              "\n",
              "    .dataframe tbody tr th {\n",
              "        vertical-align: top;\n",
              "    }\n",
              "\n",
              "    .dataframe thead th {\n",
              "        text-align: right;\n",
              "    }\n",
              "</style>\n",
              "<table border=\"1\" class=\"dataframe\">\n",
              "  <thead>\n",
              "    <tr style=\"text-align: right;\">\n",
              "      <th>Year</th>\n",
              "      <th>1980.0</th>\n",
              "      <th>1981.0</th>\n",
              "      <th>1982.0</th>\n",
              "      <th>1983.0</th>\n",
              "      <th>1984.0</th>\n",
              "      <th>1985.0</th>\n",
              "      <th>1986.0</th>\n",
              "      <th>1987.0</th>\n",
              "      <th>1988.0</th>\n",
              "      <th>1989.0</th>\n",
              "      <th>1990.0</th>\n",
              "      <th>1991.0</th>\n",
              "      <th>1992.0</th>\n",
              "      <th>1993.0</th>\n",
              "      <th>1994.0</th>\n",
              "      <th>1995.0</th>\n",
              "      <th>1996.0</th>\n",
              "      <th>1997.0</th>\n",
              "      <th>1998.0</th>\n",
              "      <th>1999.0</th>\n",
              "      <th>2000.0</th>\n",
              "      <th>2001.0</th>\n",
              "      <th>2002.0</th>\n",
              "      <th>2003.0</th>\n",
              "      <th>2004.0</th>\n",
              "      <th>2005.0</th>\n",
              "      <th>2006.0</th>\n",
              "      <th>2007.0</th>\n",
              "      <th>2008.0</th>\n",
              "      <th>2009.0</th>\n",
              "      <th>2010.0</th>\n",
              "      <th>2011.0</th>\n",
              "      <th>2012.0</th>\n",
              "      <th>2013.0</th>\n",
              "      <th>2014.0</th>\n",
              "      <th>2015.0</th>\n",
              "      <th>2016.0</th>\n",
              "    </tr>\n",
              "    <tr>\n",
              "      <th>Genre</th>\n",
              "      <th></th>\n",
              "      <th></th>\n",
              "      <th></th>\n",
              "      <th></th>\n",
              "      <th></th>\n",
              "      <th></th>\n",
              "      <th></th>\n",
              "      <th></th>\n",
              "      <th></th>\n",
              "      <th></th>\n",
              "      <th></th>\n",
              "      <th></th>\n",
              "      <th></th>\n",
              "      <th></th>\n",
              "      <th></th>\n",
              "      <th></th>\n",
              "      <th></th>\n",
              "      <th></th>\n",
              "      <th></th>\n",
              "      <th></th>\n",
              "      <th></th>\n",
              "      <th></th>\n",
              "      <th></th>\n",
              "      <th></th>\n",
              "      <th></th>\n",
              "      <th></th>\n",
              "      <th></th>\n",
              "      <th></th>\n",
              "      <th></th>\n",
              "      <th></th>\n",
              "      <th></th>\n",
              "      <th></th>\n",
              "      <th></th>\n",
              "      <th></th>\n",
              "      <th></th>\n",
              "      <th></th>\n",
              "      <th></th>\n",
              "    </tr>\n",
              "  </thead>\n",
              "  <tbody>\n",
              "    <tr>\n",
              "      <th>Action</th>\n",
              "      <td>1</td>\n",
              "      <td>25</td>\n",
              "      <td>18</td>\n",
              "      <td>7</td>\n",
              "      <td>1</td>\n",
              "      <td>2</td>\n",
              "      <td>6</td>\n",
              "      <td>2</td>\n",
              "      <td>2</td>\n",
              "      <td>2</td>\n",
              "      <td>3</td>\n",
              "      <td>5</td>\n",
              "      <td>1</td>\n",
              "      <td>6</td>\n",
              "      <td>4</td>\n",
              "      <td>8</td>\n",
              "      <td>20</td>\n",
              "      <td>31</td>\n",
              "      <td>44</td>\n",
              "      <td>39</td>\n",
              "      <td>44</td>\n",
              "      <td>67</td>\n",
              "      <td>126</td>\n",
              "      <td>144</td>\n",
              "      <td>125</td>\n",
              "      <td>192</td>\n",
              "      <td>184</td>\n",
              "      <td>210</td>\n",
              "      <td>220</td>\n",
              "      <td>272</td>\n",
              "      <td>227</td>\n",
              "      <td>239</td>\n",
              "      <td>263</td>\n",
              "      <td>148</td>\n",
              "      <td>186</td>\n",
              "      <td>253</td>\n",
              "      <td>118</td>\n",
              "    </tr>\n",
              "    <tr>\n",
              "      <th>Adventure</th>\n",
              "      <td>0</td>\n",
              "      <td>0</td>\n",
              "      <td>0</td>\n",
              "      <td>1</td>\n",
              "      <td>0</td>\n",
              "      <td>0</td>\n",
              "      <td>0</td>\n",
              "      <td>1</td>\n",
              "      <td>0</td>\n",
              "      <td>0</td>\n",
              "      <td>0</td>\n",
              "      <td>2</td>\n",
              "      <td>4</td>\n",
              "      <td>1</td>\n",
              "      <td>4</td>\n",
              "      <td>13</td>\n",
              "      <td>17</td>\n",
              "      <td>14</td>\n",
              "      <td>23</td>\n",
              "      <td>20</td>\n",
              "      <td>16</td>\n",
              "      <td>21</td>\n",
              "      <td>42</td>\n",
              "      <td>12</td>\n",
              "      <td>38</td>\n",
              "      <td>42</td>\n",
              "      <td>71</td>\n",
              "      <td>84</td>\n",
              "      <td>168</td>\n",
              "      <td>142</td>\n",
              "      <td>153</td>\n",
              "      <td>107</td>\n",
              "      <td>57</td>\n",
              "      <td>60</td>\n",
              "      <td>75</td>\n",
              "      <td>55</td>\n",
              "      <td>33</td>\n",
              "    </tr>\n",
              "    <tr>\n",
              "      <th>Fighting</th>\n",
              "      <td>1</td>\n",
              "      <td>0</td>\n",
              "      <td>0</td>\n",
              "      <td>0</td>\n",
              "      <td>0</td>\n",
              "      <td>1</td>\n",
              "      <td>0</td>\n",
              "      <td>2</td>\n",
              "      <td>0</td>\n",
              "      <td>0</td>\n",
              "      <td>0</td>\n",
              "      <td>1</td>\n",
              "      <td>7</td>\n",
              "      <td>11</td>\n",
              "      <td>22</td>\n",
              "      <td>29</td>\n",
              "      <td>30</td>\n",
              "      <td>28</td>\n",
              "      <td>41</td>\n",
              "      <td>24</td>\n",
              "      <td>29</td>\n",
              "      <td>18</td>\n",
              "      <td>54</td>\n",
              "      <td>44</td>\n",
              "      <td>39</td>\n",
              "      <td>43</td>\n",
              "      <td>55</td>\n",
              "      <td>50</td>\n",
              "      <td>57</td>\n",
              "      <td>53</td>\n",
              "      <td>40</td>\n",
              "      <td>50</td>\n",
              "      <td>29</td>\n",
              "      <td>20</td>\n",
              "      <td>23</td>\n",
              "      <td>21</td>\n",
              "      <td>14</td>\n",
              "    </tr>\n",
              "    <tr>\n",
              "      <th>Misc</th>\n",
              "      <td>4</td>\n",
              "      <td>0</td>\n",
              "      <td>1</td>\n",
              "      <td>1</td>\n",
              "      <td>1</td>\n",
              "      <td>0</td>\n",
              "      <td>0</td>\n",
              "      <td>0</td>\n",
              "      <td>0</td>\n",
              "      <td>1</td>\n",
              "      <td>0</td>\n",
              "      <td>1</td>\n",
              "      <td>2</td>\n",
              "      <td>3</td>\n",
              "      <td>6</td>\n",
              "      <td>22</td>\n",
              "      <td>23</td>\n",
              "      <td>12</td>\n",
              "      <td>21</td>\n",
              "      <td>25</td>\n",
              "      <td>20</td>\n",
              "      <td>26</td>\n",
              "      <td>45</td>\n",
              "      <td>53</td>\n",
              "      <td>67</td>\n",
              "      <td>110</td>\n",
              "      <td>109</td>\n",
              "      <td>150</td>\n",
              "      <td>210</td>\n",
              "      <td>207</td>\n",
              "      <td>200</td>\n",
              "      <td>183</td>\n",
              "      <td>38</td>\n",
              "      <td>42</td>\n",
              "      <td>41</td>\n",
              "      <td>39</td>\n",
              "      <td>18</td>\n",
              "    </tr>\n",
              "    <tr>\n",
              "      <th>Platform</th>\n",
              "      <td>0</td>\n",
              "      <td>3</td>\n",
              "      <td>5</td>\n",
              "      <td>5</td>\n",
              "      <td>1</td>\n",
              "      <td>4</td>\n",
              "      <td>6</td>\n",
              "      <td>2</td>\n",
              "      <td>4</td>\n",
              "      <td>3</td>\n",
              "      <td>3</td>\n",
              "      <td>6</td>\n",
              "      <td>6</td>\n",
              "      <td>11</td>\n",
              "      <td>11</td>\n",
              "      <td>13</td>\n",
              "      <td>14</td>\n",
              "      <td>18</td>\n",
              "      <td>25</td>\n",
              "      <td>18</td>\n",
              "      <td>24</td>\n",
              "      <td>43</td>\n",
              "      <td>77</td>\n",
              "      <td>87</td>\n",
              "      <td>66</td>\n",
              "      <td>82</td>\n",
              "      <td>54</td>\n",
              "      <td>42</td>\n",
              "      <td>62</td>\n",
              "      <td>28</td>\n",
              "      <td>31</td>\n",
              "      <td>37</td>\n",
              "      <td>11</td>\n",
              "      <td>37</td>\n",
              "      <td>10</td>\n",
              "      <td>14</td>\n",
              "      <td>10</td>\n",
              "    </tr>\n",
              "    <tr>\n",
              "      <th>Puzzle</th>\n",
              "      <td>0</td>\n",
              "      <td>2</td>\n",
              "      <td>3</td>\n",
              "      <td>1</td>\n",
              "      <td>3</td>\n",
              "      <td>4</td>\n",
              "      <td>0</td>\n",
              "      <td>0</td>\n",
              "      <td>1</td>\n",
              "      <td>5</td>\n",
              "      <td>2</td>\n",
              "      <td>4</td>\n",
              "      <td>5</td>\n",
              "      <td>3</td>\n",
              "      <td>3</td>\n",
              "      <td>12</td>\n",
              "      <td>9</td>\n",
              "      <td>14</td>\n",
              "      <td>13</td>\n",
              "      <td>6</td>\n",
              "      <td>12</td>\n",
              "      <td>15</td>\n",
              "      <td>20</td>\n",
              "      <td>7</td>\n",
              "      <td>25</td>\n",
              "      <td>33</td>\n",
              "      <td>43</td>\n",
              "      <td>65</td>\n",
              "      <td>64</td>\n",
              "      <td>79</td>\n",
              "      <td>45</td>\n",
              "      <td>44</td>\n",
              "      <td>11</td>\n",
              "      <td>3</td>\n",
              "      <td>7</td>\n",
              "      <td>6</td>\n",
              "      <td>0</td>\n",
              "    </tr>\n",
              "    <tr>\n",
              "      <th>Racing</th>\n",
              "      <td>0</td>\n",
              "      <td>1</td>\n",
              "      <td>2</td>\n",
              "      <td>0</td>\n",
              "      <td>3</td>\n",
              "      <td>0</td>\n",
              "      <td>1</td>\n",
              "      <td>0</td>\n",
              "      <td>1</td>\n",
              "      <td>0</td>\n",
              "      <td>2</td>\n",
              "      <td>1</td>\n",
              "      <td>2</td>\n",
              "      <td>2</td>\n",
              "      <td>8</td>\n",
              "      <td>12</td>\n",
              "      <td>22</td>\n",
              "      <td>36</td>\n",
              "      <td>49</td>\n",
              "      <td>49</td>\n",
              "      <td>43</td>\n",
              "      <td>71</td>\n",
              "      <td>103</td>\n",
              "      <td>109</td>\n",
              "      <td>71</td>\n",
              "      <td>77</td>\n",
              "      <td>75</td>\n",
              "      <td>86</td>\n",
              "      <td>82</td>\n",
              "      <td>83</td>\n",
              "      <td>57</td>\n",
              "      <td>64</td>\n",
              "      <td>30</td>\n",
              "      <td>16</td>\n",
              "      <td>27</td>\n",
              "      <td>19</td>\n",
              "      <td>20</td>\n",
              "    </tr>\n",
              "    <tr>\n",
              "      <th>Role-Playing</th>\n",
              "      <td>0</td>\n",
              "      <td>0</td>\n",
              "      <td>0</td>\n",
              "      <td>0</td>\n",
              "      <td>0</td>\n",
              "      <td>0</td>\n",
              "      <td>1</td>\n",
              "      <td>3</td>\n",
              "      <td>3</td>\n",
              "      <td>2</td>\n",
              "      <td>2</td>\n",
              "      <td>5</td>\n",
              "      <td>5</td>\n",
              "      <td>9</td>\n",
              "      <td>17</td>\n",
              "      <td>24</td>\n",
              "      <td>28</td>\n",
              "      <td>23</td>\n",
              "      <td>26</td>\n",
              "      <td>33</td>\n",
              "      <td>29</td>\n",
              "      <td>41</td>\n",
              "      <td>54</td>\n",
              "      <td>48</td>\n",
              "      <td>60</td>\n",
              "      <td>71</td>\n",
              "      <td>110</td>\n",
              "      <td>103</td>\n",
              "      <td>112</td>\n",
              "      <td>103</td>\n",
              "      <td>103</td>\n",
              "      <td>95</td>\n",
              "      <td>78</td>\n",
              "      <td>71</td>\n",
              "      <td>90</td>\n",
              "      <td>79</td>\n",
              "      <td>40</td>\n",
              "    </tr>\n",
              "    <tr>\n",
              "      <th>Shooter</th>\n",
              "      <td>2</td>\n",
              "      <td>10</td>\n",
              "      <td>5</td>\n",
              "      <td>1</td>\n",
              "      <td>3</td>\n",
              "      <td>1</td>\n",
              "      <td>4</td>\n",
              "      <td>2</td>\n",
              "      <td>1</td>\n",
              "      <td>1</td>\n",
              "      <td>0</td>\n",
              "      <td>3</td>\n",
              "      <td>3</td>\n",
              "      <td>2</td>\n",
              "      <td>11</td>\n",
              "      <td>29</td>\n",
              "      <td>23</td>\n",
              "      <td>27</td>\n",
              "      <td>23</td>\n",
              "      <td>16</td>\n",
              "      <td>20</td>\n",
              "      <td>36</td>\n",
              "      <td>78</td>\n",
              "      <td>73</td>\n",
              "      <td>88</td>\n",
              "      <td>96</td>\n",
              "      <td>69</td>\n",
              "      <td>85</td>\n",
              "      <td>83</td>\n",
              "      <td>91</td>\n",
              "      <td>81</td>\n",
              "      <td>94</td>\n",
              "      <td>48</td>\n",
              "      <td>59</td>\n",
              "      <td>47</td>\n",
              "      <td>34</td>\n",
              "      <td>32</td>\n",
              "    </tr>\n",
              "    <tr>\n",
              "      <th>Simulation</th>\n",
              "      <td>0</td>\n",
              "      <td>1</td>\n",
              "      <td>0</td>\n",
              "      <td>0</td>\n",
              "      <td>0</td>\n",
              "      <td>1</td>\n",
              "      <td>0</td>\n",
              "      <td>0</td>\n",
              "      <td>1</td>\n",
              "      <td>0</td>\n",
              "      <td>1</td>\n",
              "      <td>2</td>\n",
              "      <td>1</td>\n",
              "      <td>1</td>\n",
              "      <td>7</td>\n",
              "      <td>14</td>\n",
              "      <td>13</td>\n",
              "      <td>19</td>\n",
              "      <td>8</td>\n",
              "      <td>20</td>\n",
              "      <td>15</td>\n",
              "      <td>28</td>\n",
              "      <td>19</td>\n",
              "      <td>35</td>\n",
              "      <td>27</td>\n",
              "      <td>38</td>\n",
              "      <td>58</td>\n",
              "      <td>90</td>\n",
              "      <td>118</td>\n",
              "      <td>123</td>\n",
              "      <td>79</td>\n",
              "      <td>55</td>\n",
              "      <td>18</td>\n",
              "      <td>18</td>\n",
              "      <td>11</td>\n",
              "      <td>15</td>\n",
              "      <td>9</td>\n",
              "    </tr>\n",
              "    <tr>\n",
              "      <th>Sports</th>\n",
              "      <td>1</td>\n",
              "      <td>4</td>\n",
              "      <td>2</td>\n",
              "      <td>1</td>\n",
              "      <td>2</td>\n",
              "      <td>1</td>\n",
              "      <td>3</td>\n",
              "      <td>4</td>\n",
              "      <td>2</td>\n",
              "      <td>3</td>\n",
              "      <td>3</td>\n",
              "      <td>7</td>\n",
              "      <td>4</td>\n",
              "      <td>9</td>\n",
              "      <td>22</td>\n",
              "      <td>29</td>\n",
              "      <td>52</td>\n",
              "      <td>46</td>\n",
              "      <td>70</td>\n",
              "      <td>62</td>\n",
              "      <td>81</td>\n",
              "      <td>96</td>\n",
              "      <td>188</td>\n",
              "      <td>125</td>\n",
              "      <td>106</td>\n",
              "      <td>122</td>\n",
              "      <td>138</td>\n",
              "      <td>167</td>\n",
              "      <td>200</td>\n",
              "      <td>185</td>\n",
              "      <td>186</td>\n",
              "      <td>122</td>\n",
              "      <td>54</td>\n",
              "      <td>53</td>\n",
              "      <td>55</td>\n",
              "      <td>62</td>\n",
              "      <td>38</td>\n",
              "    </tr>\n",
              "    <tr>\n",
              "      <th>Strategy</th>\n",
              "      <td>0</td>\n",
              "      <td>0</td>\n",
              "      <td>0</td>\n",
              "      <td>0</td>\n",
              "      <td>0</td>\n",
              "      <td>0</td>\n",
              "      <td>0</td>\n",
              "      <td>0</td>\n",
              "      <td>0</td>\n",
              "      <td>0</td>\n",
              "      <td>0</td>\n",
              "      <td>4</td>\n",
              "      <td>3</td>\n",
              "      <td>2</td>\n",
              "      <td>6</td>\n",
              "      <td>14</td>\n",
              "      <td>12</td>\n",
              "      <td>21</td>\n",
              "      <td>36</td>\n",
              "      <td>26</td>\n",
              "      <td>16</td>\n",
              "      <td>20</td>\n",
              "      <td>22</td>\n",
              "      <td>37</td>\n",
              "      <td>32</td>\n",
              "      <td>29</td>\n",
              "      <td>42</td>\n",
              "      <td>67</td>\n",
              "      <td>50</td>\n",
              "      <td>65</td>\n",
              "      <td>53</td>\n",
              "      <td>45</td>\n",
              "      <td>15</td>\n",
              "      <td>19</td>\n",
              "      <td>8</td>\n",
              "      <td>17</td>\n",
              "      <td>10</td>\n",
              "    </tr>\n",
              "  </tbody>\n",
              "</table>\n",
              "</div>"
            ],
            "text/plain": [
              "Year          1980.0  1981.0  1982.0  1983.0  ...  2013.0  2014.0  2015.0  2016.0\n",
              "Genre                                         ...                                \n",
              "Action             1      25      18       7  ...     148     186     253     118\n",
              "Adventure          0       0       0       1  ...      60      75      55      33\n",
              "Fighting           1       0       0       0  ...      20      23      21      14\n",
              "Misc               4       0       1       1  ...      42      41      39      18\n",
              "Platform           0       3       5       5  ...      37      10      14      10\n",
              "Puzzle             0       2       3       1  ...       3       7       6       0\n",
              "Racing             0       1       2       0  ...      16      27      19      20\n",
              "Role-Playing       0       0       0       0  ...      71      90      79      40\n",
              "Shooter            2      10       5       1  ...      59      47      34      32\n",
              "Simulation         0       1       0       0  ...      18      11      15       9\n",
              "Sports             1       4       2       1  ...      53      55      62      38\n",
              "Strategy           0       0       0       0  ...      19       8      17      10\n",
              "\n",
              "[12 rows x 37 columns]"
            ]
          },
          "metadata": {
            "tags": []
          },
          "execution_count": 140
        }
      ]
    },
    {
      "cell_type": "code",
      "metadata": {
        "colab": {
          "base_uri": "https://localhost:8080/"
        },
        "id": "Jmaa1xAUrAGJ",
        "outputId": "27368e30-9e43-4df5-b832-12ca0025db4a"
      },
      "source": [
        "dfy = pd.crosstab(df['Genre'],df['Year'])\n",
        "dfy = dfy.drop([2017.0],axis=1)\n",
        "dfy = dfy.drop([2020.0],axis=1)\n",
        "stat, p, dof, expected = stats.chi2_contingency(dfy)\n",
        "p"
      ],
      "execution_count": 139,
      "outputs": [
        {
          "output_type": "execute_result",
          "data": {
            "text/plain": [
              "0.0"
            ]
          },
          "metadata": {
            "tags": []
          },
          "execution_count": 139
        }
      ]
    },
    {
      "cell_type": "code",
      "metadata": {
        "colab": {
          "base_uri": "https://localhost:8080/",
          "height": 445
        },
        "id": "Gnrnr0BMzgDp",
        "outputId": "9d1f99c4-bb3e-4c29-fbdd-1a285a9f1712"
      },
      "source": [
        "sns.set(rc={'figure.figsize':(20,10)})\n",
        "sns.lineplot(data=dfy.T,dashes = False, alpha=.5);"
      ],
      "execution_count": 164,
      "outputs": [
        {
          "output_type": "display_data",
          "data": {
            "image/png": "[encoded data removed]",
            "text/plain": [
              "<Figure size 1440x720 with 1 Axes>"
            ]
          },
          "metadata": {
            "tags": []
          }
        }
      ]
    },
    {
      "cell_type": "code",
      "metadata": {
        "colab": {
          "base_uri": "https://localhost:8080/",
          "height": 390
        },
        "id": "IzUhfq4a7Va8",
        "outputId": "f8a028fb-64ef-4684-92b2-379c95c3921c"
      },
      "source": [
        "dft = df[['Name','Total_Sales']]\n",
        "df10 = dft.nlargest(10,['Total_Sales'])\n",
        "index = df10['Name']\n",
        "df10 = df10.drop(['Name'],axis=1)\n",
        "df10.index = index\n",
        "df10"
      ],
      "execution_count": 159,
      "outputs": [
        {
          "output_type": "execute_result",
          "data": {
            "text/html": [
              "<div>\n",
              "<style scoped>\n",
              "    .dataframe tbody tr th:only-of-type {\n",
              "        vertical-align: middle;\n",
              "    }\n",
              "\n",
              "    .dataframe tbody tr th {\n",
              "        vertical-align: top;\n",
              "    }\n",
              "\n",
              "    .dataframe thead th {\n",
              "        text-align: right;\n",
              "    }\n",
              "</style>\n",
              "<table border=\"1\" class=\"dataframe\">\n",
              "  <thead>\n",
              "    <tr style=\"text-align: right;\">\n",
              "      <th></th>\n",
              "      <th>Total_Sales</th>\n",
              "    </tr>\n",
              "    <tr>\n",
              "      <th>Name</th>\n",
              "      <th></th>\n",
              "    </tr>\n",
              "  </thead>\n",
              "  <tbody>\n",
              "    <tr>\n",
              "      <th>Wii Sports</th>\n",
              "      <td>82.74</td>\n",
              "    </tr>\n",
              "    <tr>\n",
              "      <th>Super Mario Bros.</th>\n",
              "      <td>40.24</td>\n",
              "    </tr>\n",
              "    <tr>\n",
              "      <th>Mario Kart Wii</th>\n",
              "      <td>35.83</td>\n",
              "    </tr>\n",
              "    <tr>\n",
              "      <th>Wii Sports Resort</th>\n",
              "      <td>33.00</td>\n",
              "    </tr>\n",
              "    <tr>\n",
              "      <th>Pokemon Red/Pokemon Blue</th>\n",
              "      <td>31.38</td>\n",
              "    </tr>\n",
              "    <tr>\n",
              "      <th>Tetris</th>\n",
              "      <td>30.26</td>\n",
              "    </tr>\n",
              "    <tr>\n",
              "      <th>New Super Mario Bros.</th>\n",
              "      <td>30.01</td>\n",
              "    </tr>\n",
              "    <tr>\n",
              "      <th>Wii Play</th>\n",
              "      <td>29.01</td>\n",
              "    </tr>\n",
              "    <tr>\n",
              "      <th>New Super Mario Bros. Wii</th>\n",
              "      <td>28.61</td>\n",
              "    </tr>\n",
              "    <tr>\n",
              "      <th>Duck Hunt</th>\n",
              "      <td>28.31</td>\n",
              "    </tr>\n",
              "  </tbody>\n",
              "</table>\n",
              "</div>"
            ],
            "text/plain": [
              "                           Total_Sales\n",
              "Name                                  \n",
              "Wii Sports                       82.74\n",
              "Super Mario Bros.                40.24\n",
              "Mario Kart Wii                   35.83\n",
              "Wii Sports Resort                33.00\n",
              "Pokemon Red/Pokemon Blue         31.38\n",
              "Tetris                           30.26\n",
              "New Super Mario Bros.            30.01\n",
              "Wii Play                         29.01\n",
              "New Super Mario Bros. Wii        28.61\n",
              "Duck Hunt                        28.31"
            ]
          },
          "metadata": {
            "tags": []
          },
          "execution_count": 159
        }
      ]
    },
    {
      "cell_type": "code",
      "metadata": {
        "colab": {
          "base_uri": "https://localhost:8080/",
          "height": 622
        },
        "id": "HzXxZvlSC4E3",
        "outputId": "e3ea7ee6-21d6-49ba-bd69-4feaafbd728c"
      },
      "source": [
        "df10['Total_Sales'].plot.bar()\n",
        "plt.show()"
      ],
      "execution_count": 160,
      "outputs": [
        {
          "output_type": "display_data",
          "data": {
            "image/png": "[encoded data removed]",
            "text/plain": [
              "<Figure size 1080x576 with 1 Axes>"
            ]
          },
          "metadata": {
            "tags": []
          }
        }
      ]
    },
    {
      "cell_type": "code",
      "metadata": {
        "id": "KLlZdZNrBMUs"
      },
      "source": [
        "## 수익성으로 판단했을 때"
      ],
      "execution_count": null,
      "outputs": []
    },
    {
      "cell_type": "code",
      "metadata": {
        "colab": {
          "base_uri": "https://localhost:8080/",
          "height": 484
        },
        "id": "x5k1TlgG96jB",
        "outputId": "73c0b000-ef80-45ae-d155-730a27878f64"
      },
      "source": [
        "ratio = [df['NA_Sales'].sum(),df['JP_Sales'].sum(),df['EU_Sales'].sum(),df['Other_Sales'].sum()]\n",
        "labels = df.columns[5:9]\n",
        "plt.pie(ratio,labels=labels,autopct='%.1f%%');\n",
        "plt.show\n",
        "#지역 별 매출 파이그래프"
      ],
      "execution_count": 136,
      "outputs": [
        {
          "output_type": "execute_result",
          "data": {
            "text/plain": [
              "<function matplotlib.pyplot.show>"
            ]
          },
          "metadata": {
            "tags": []
          },
          "execution_count": 136
        },
        {
          "output_type": "display_data",
          "data": {
            "image/png": "[encoded data removed]",
            "text/plain": [
              "<Figure size 1080x576 with 1 Axes>"
            ]
          },
          "metadata": {
            "tags": []
          }
        }
      ]
    },
    {
      "cell_type": "code",
      "metadata": {
        "id": "rkilptISCz6l"
      },
      "source": [
        "#판매량 대비 매출 "
      ],
      "execution_count": null,
      "outputs": []
    },
    {
      "cell_type": "code",
      "metadata": {
        "colab": {
          "base_uri": "https://localhost:8080/",
          "height": 452
        },
        "id": "Gdc9DrM_BzMd",
        "outputId": "a1912450-c03f-4e67-e626-bbae3af46fe8"
      },
      "source": [
        "df1"
      ],
      "execution_count": 161,
      "outputs": [
        {
          "output_type": "execute_result",
          "data": {
            "text/html": [
              "<div>\n",
              "<style scoped>\n",
              "    .dataframe tbody tr th:only-of-type {\n",
              "        vertical-align: middle;\n",
              "    }\n",
              "\n",
              "    .dataframe tbody tr th {\n",
              "        vertical-align: top;\n",
              "    }\n",
              "\n",
              "    .dataframe thead th {\n",
              "        text-align: right;\n",
              "    }\n",
              "</style>\n",
              "<table border=\"1\" class=\"dataframe\">\n",
              "  <thead>\n",
              "    <tr style=\"text-align: right;\">\n",
              "      <th></th>\n",
              "      <th>Year</th>\n",
              "      <th>NA_Sales</th>\n",
              "      <th>EU_Sales</th>\n",
              "      <th>JP_Sales</th>\n",
              "      <th>Other_Sales</th>\n",
              "      <th>Total_Sales</th>\n",
              "    </tr>\n",
              "    <tr>\n",
              "      <th>Genre</th>\n",
              "      <th></th>\n",
              "      <th></th>\n",
              "      <th></th>\n",
              "      <th></th>\n",
              "      <th></th>\n",
              "      <th></th>\n",
              "    </tr>\n",
              "  </thead>\n",
              "  <tbody>\n",
              "    <tr>\n",
              "      <th>Action</th>\n",
              "      <td>6517647.0</td>\n",
              "      <td>860.03</td>\n",
              "      <td>514.43</td>\n",
              "      <td>158.31</td>\n",
              "      <td>184.79</td>\n",
              "      <td>1717.56</td>\n",
              "    </tr>\n",
              "    <tr>\n",
              "      <th>Adventure</th>\n",
              "      <td>2562361.0</td>\n",
              "      <td>102.20</td>\n",
              "      <td>64.58</td>\n",
              "      <td>51.90</td>\n",
              "      <td>16.81</td>\n",
              "      <td>235.49</td>\n",
              "    </tr>\n",
              "    <tr>\n",
              "      <th>Fighting</th>\n",
              "      <td>1675871.0</td>\n",
              "      <td>220.74</td>\n",
              "      <td>100.00</td>\n",
              "      <td>87.15</td>\n",
              "      <td>36.19</td>\n",
              "      <td>444.08</td>\n",
              "    </tr>\n",
              "    <tr>\n",
              "      <th>Misc</th>\n",
              "      <td>3374273.0</td>\n",
              "      <td>394.73</td>\n",
              "      <td>208.15</td>\n",
              "      <td>104.18</td>\n",
              "      <td>72.64</td>\n",
              "      <td>779.70</td>\n",
              "    </tr>\n",
              "    <tr>\n",
              "      <th>Platform</th>\n",
              "      <td>1749321.0</td>\n",
              "      <td>445.38</td>\n",
              "      <td>200.63</td>\n",
              "      <td>130.53</td>\n",
              "      <td>51.45</td>\n",
              "      <td>827.99</td>\n",
              "    </tr>\n",
              "    <tr>\n",
              "      <th>Puzzle</th>\n",
              "      <td>1140981.0</td>\n",
              "      <td>121.76</td>\n",
              "      <td>50.47</td>\n",
              "      <td>56.29</td>\n",
              "      <td>12.45</td>\n",
              "      <td>240.97</td>\n",
              "    </tr>\n",
              "    <tr>\n",
              "      <th>Racing</th>\n",
              "      <td>2453914.0</td>\n",
              "      <td>356.90</td>\n",
              "      <td>236.31</td>\n",
              "      <td>56.61</td>\n",
              "      <td>76.68</td>\n",
              "      <td>726.50</td>\n",
              "    </tr>\n",
              "    <tr>\n",
              "      <th>Role-Playing</th>\n",
              "      <td>2950378.0</td>\n",
              "      <td>327.46</td>\n",
              "      <td>188.32</td>\n",
              "      <td>350.55</td>\n",
              "      <td>59.74</td>\n",
              "      <td>926.07</td>\n",
              "    </tr>\n",
              "    <tr>\n",
              "      <th>Shooter</th>\n",
              "      <td>2569586.0</td>\n",
              "      <td>574.58</td>\n",
              "      <td>310.23</td>\n",
              "      <td>38.18</td>\n",
              "      <td>101.87</td>\n",
              "      <td>1024.86</td>\n",
              "    </tr>\n",
              "    <tr>\n",
              "      <th>Simulation</th>\n",
              "      <td>1697540.0</td>\n",
              "      <td>181.43</td>\n",
              "      <td>112.99</td>\n",
              "      <td>63.54</td>\n",
              "      <td>31.32</td>\n",
              "      <td>389.28</td>\n",
              "    </tr>\n",
              "    <tr>\n",
              "      <th>Sports</th>\n",
              "      <td>4622630.0</td>\n",
              "      <td>670.12</td>\n",
              "      <td>371.34</td>\n",
              "      <td>134.76</td>\n",
              "      <td>132.65</td>\n",
              "      <td>1308.87</td>\n",
              "    </tr>\n",
              "    <tr>\n",
              "      <th>Strategy</th>\n",
              "      <td>1345744.0</td>\n",
              "      <td>67.88</td>\n",
              "      <td>44.85</td>\n",
              "      <td>49.10</td>\n",
              "      <td>11.23</td>\n",
              "      <td>173.06</td>\n",
              "    </tr>\n",
              "  </tbody>\n",
              "</table>\n",
              "</div>"
            ],
            "text/plain": [
              "                   Year  NA_Sales  EU_Sales  JP_Sales  Other_Sales  Total_Sales\n",
              "Genre                                                                          \n",
              "Action        6517647.0    860.03    514.43    158.31       184.79      1717.56\n",
              "Adventure     2562361.0    102.20     64.58     51.90        16.81       235.49\n",
              "Fighting      1675871.0    220.74    100.00     87.15        36.19       444.08\n",
              "Misc          3374273.0    394.73    208.15    104.18        72.64       779.70\n",
              "Platform      1749321.0    445.38    200.63    130.53        51.45       827.99\n",
              "Puzzle        1140981.0    121.76     50.47     56.29        12.45       240.97\n",
              "Racing        2453914.0    356.90    236.31     56.61        76.68       726.50\n",
              "Role-Playing  2950378.0    327.46    188.32    350.55        59.74       926.07\n",
              "Shooter       2569586.0    574.58    310.23     38.18       101.87      1024.86\n",
              "Simulation    1697540.0    181.43    112.99     63.54        31.32       389.28\n",
              "Sports        4622630.0    670.12    371.34    134.76       132.65      1308.87\n",
              "Strategy      1345744.0     67.88     44.85     49.10        11.23       173.06"
            ]
          },
          "metadata": {
            "tags": []
          },
          "execution_count": 161
        }
      ]
    },
    {
      "cell_type": "code",
      "metadata": {
        "id": "ej9-2I-1BJwA"
      },
      "source": [
        "#트렌드로 판단했을 때"
      ],
      "execution_count": null,
      "outputs": []
    },
    {
      "cell_type": "code",
      "metadata": {
        "id": "avnQzB5tFlG0"
      },
      "source": [
        "##최근 10년 간 데이터를 \n",
        "##대분류(캐주얼,MMORPG)부터 소분류(액션,슈팅 등)까지 장르가 몇 %씩 포함되어 있는 지 나와있는 데이터로\n",
        "##개발 비용 대비 매출액이 큰 모바일 게임 포함시켜서"
      ],
      "execution_count": null,
      "outputs": []
    }
  ]
}