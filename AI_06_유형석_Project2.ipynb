{
  "nbformat": 4,
  "nbformat_minor": 0,
  "metadata": {
    "colab": {
      "name": "AI_06_유형석_Project2.ipynb",
      "private_outputs": true,
      "provenance": [],
      "authorship_tag": "ABX9TyNmdT6jLBK74ykP7zDzKtqp",
      "include_colab_link": true
    },
    "kernelspec": {
      "name": "python3",
      "display_name": "Python 3"
    },
    "language_info": {
      "name": "python"
    }
  },
  "cells": [
    {
      "cell_type": "markdown",
      "metadata": {
        "id": "view-in-github",
        "colab_type": "text"
      },
      "source": [
        "<a href=\"https://colab.research.google.com/github/hsaurs/Projects/blob/main/AI_06_%EC%9C%A0%ED%98%95%EC%84%9D_Project2.ipynb\" target=\"_parent\"><img src=\"https://colab.research.google.com/assets/colab-badge.svg\" alt=\"Open In Colab\"/></a>"
      ]
    },
    {
      "cell_type": "code",
      "metadata": {
        "id": "uPIrXN4CKuiJ"
      },
      "source": [
        "!pip install category_encoders"
      ],
      "execution_count": null,
      "outputs": []
    },
    {
      "cell_type": "code",
      "metadata": {
        "id": "uK9xdHcy1gqN"
      },
      "source": [
        "import pandas as pd\n",
        "import numpy as np"
      ],
      "execution_count": null,
      "outputs": []
    },
    {
      "cell_type": "code",
      "metadata": {
        "id": "7iFSxLME8vv-"
      },
      "source": [
        "!wget https://archive.ics.uci.edu/ml/machine-learning-databases/adult/adult.data\n",
        "names = ['age', 'workclass', 'fnlwgt', 'education', 'education num', \n",
        "                 'marital status', 'occupation', 'relationship', 'race', 'sex', \n",
        "                 'capital gain', 'capital loss', 'hours per week', \n",
        "                 'native country', 'income']\n",
        "df = pd.read_csv('adult.data', header=None, names=names,na_values=['?', ' ?'])"
      ],
      "execution_count": null,
      "outputs": []
    },
    {
      "cell_type": "code",
      "metadata": {
        "id": "HxIHv21p0V1m"
      },
      "source": [
        "df.shape"
      ],
      "execution_count": null,
      "outputs": []
    },
    {
      "cell_type": "code",
      "metadata": {
        "id": "yXMFd_lizTGD"
      },
      "source": [
        "df.isna().sum()"
      ],
      "execution_count": null,
      "outputs": []
    },
    {
      "cell_type": "code",
      "metadata": {
        "id": "xMrqgZ1t0JYq"
      },
      "source": [
        "df = df.dropna()\n",
        "df.reset_index(drop=True,inplace=True)\n",
        "df.isna().sum()"
      ],
      "execution_count": null,
      "outputs": []
    },
    {
      "cell_type": "code",
      "metadata": {
        "id": "4kJEAE-aE4dO"
      },
      "source": [
        "df.duplicated().sum()"
      ],
      "execution_count": null,
      "outputs": []
    },
    {
      "cell_type": "code",
      "metadata": {
        "id": "AWtU6QZ7E7mx"
      },
      "source": [
        "df = df.drop_duplicates()\n",
        "df.duplicated().sum()"
      ],
      "execution_count": null,
      "outputs": []
    },
    {
      "cell_type": "code",
      "metadata": {
        "id": "haLH_6J6FQkY"
      },
      "source": [
        "df.shape"
      ],
      "execution_count": null,
      "outputs": []
    },
    {
      "cell_type": "code",
      "metadata": {
        "id": "2zNdonjXFT6J"
      },
      "source": [
        "df.head(4)"
      ],
      "execution_count": null,
      "outputs": []
    },
    {
      "cell_type": "code",
      "metadata": {
        "id": "jqrrpH8lD2Un"
      },
      "source": [
        "df.describe()"
      ],
      "execution_count": null,
      "outputs": []
    },
    {
      "cell_type": "code",
      "metadata": {
        "id": "aSp4HSR-1otd"
      },
      "source": [
        "df.columns"
      ],
      "execution_count": null,
      "outputs": []
    },
    {
      "cell_type": "code",
      "metadata": {
        "id": "0COXsFJj49Qp"
      },
      "source": [
        "columns = ['workclass', 'education', 'marital status', \n",
        "           'occupation', 'relationship', 'race', 'sex',\n",
        "           'native country']"
      ],
      "execution_count": null,
      "outputs": []
    },
    {
      "cell_type": "code",
      "metadata": {
        "id": "CInoUb0O31a9"
      },
      "source": [
        "for i in columns:\n",
        "    print(i,\":\",df[i].nunique(), np.unique(df[i]))"
      ],
      "execution_count": null,
      "outputs": []
    },
    {
      "cell_type": "code",
      "metadata": {
        "id": "KeZ_MpzoTuzt"
      },
      "source": [
        "for i in columns:\n",
        "    df[i] =  df[i].str.replace(pat=r'[^\\w]', repl=r'', regex=True)"
      ],
      "execution_count": null,
      "outputs": []
    },
    {
      "cell_type": "code",
      "metadata": {
        "id": "lLqqCzx2VRlP"
      },
      "source": [
        "for i in columns:\n",
        "    print(i,\":\",df[i].nunique(), np.unique(df[i]))"
      ],
      "execution_count": null,
      "outputs": []
    },
    {
      "cell_type": "code",
      "metadata": {
        "id": "pWm-REXt_Qg0"
      },
      "source": [
        "df['Income'] = df['income'] == ' >50K'\n",
        "df['Income'].nunique()"
      ],
      "execution_count": null,
      "outputs": []
    },
    {
      "cell_type": "code",
      "metadata": {
        "id": "asNEon3_HtBr"
      },
      "source": [
        "df['Income'].value_counts()"
      ],
      "execution_count": null,
      "outputs": []
    },
    {
      "cell_type": "code",
      "metadata": {
        "id": "102ypfElPrWF"
      },
      "source": [
        "df['Income'] = df['Income']*1"
      ],
      "execution_count": null,
      "outputs": []
    },
    {
      "cell_type": "code",
      "metadata": {
        "id": "2oCzScTb7sGT"
      },
      "source": [
        "from sklearn.model_selection import train_test_split\n",
        "train, val = train_test_split(df,test_size=.2, random_state=2)\n",
        "train.shape, val.shape"
      ],
      "execution_count": null,
      "outputs": []
    },
    {
      "cell_type": "code",
      "metadata": {
        "id": "HAFSpMFaMdYi"
      },
      "source": [
        "from category_encoders import OrdinalEncoder\n",
        "from sklearn.pipeline import make_pipeline\n",
        "\n",
        "target = 'Income'\n",
        "features = df.columns.drop([target,'income'])\n",
        "X_train = train[features]\n",
        "y_train = train[target]\n",
        "X_val = val[features]\n",
        "y_val = val[target]"
      ],
      "execution_count": null,
      "outputs": []
    },
    {
      "cell_type": "code",
      "metadata": {
        "id": "PlBv9iuNJWyf"
      },
      "source": [
        "## 1. DecisionTreeClassifier Model\n",
        "\n",
        "from sklearn.tree import DecisionTreeClassifier\n",
        "\n",
        "pipe1 = make_pipeline(\n",
        "    OrdinalEncoder(),\n",
        "    DecisionTreeClassifier(max_depth=5,random_state=2)\n",
        ")\n",
        "\n",
        "pipe1.fit(X_train, y_train)\n",
        "print('검증 정확도: ', pipe1.score(X_val,y_val))"
      ],
      "execution_count": null,
      "outputs": []
    },
    {
      "cell_type": "code",
      "metadata": {
        "id": "2zp2WT1uKxN5"
      },
      "source": [
        "## 2. RandomForestClassifier Model\n",
        "\n",
        "from sklearn.ensemble import RandomForestClassifier\n",
        "\n",
        "pipe2 = make_pipeline(\n",
        "    OrdinalEncoder(),\n",
        "    RandomForestClassifier(random_state=2)\n",
        ")\n",
        "\n",
        "pipe2.fit(X_train, y_train)\n",
        "print('검증 정확도: ', pipe2.score(X_val,y_val))"
      ],
      "execution_count": null,
      "outputs": []
    },
    {
      "cell_type": "code",
      "metadata": {
        "id": "IkO3yDhoSkmo"
      },
      "source": [
        "from sklearn.model_selection import RandomizedSearchCV\n",
        "from scipy.stats import randint, uniform\n",
        "\n",
        "dists = {\n",
        "    'randomforestclassifier__n_estimators': randint(50, 500),\n",
        "    'randomforestclassifier__max_depth': [5, 10, 15, 20, None], \n",
        "    'randomforestclassifier__max_features': uniform(0, 1)\n",
        "}\n",
        "\n",
        "clf = RandomizedSearchCV(\n",
        "    pipe2,\n",
        "    param_distributions=dists,\n",
        "    n_iter=50,\n",
        "    cv=3,\n",
        "    scoring='accuracy',\n",
        "    verbose=1,\n",
        "    n_jobs=-1\n",
        ")\n",
        "\n",
        "clf.fit(X_train,y_train);\n",
        "print('최적 하이퍼파라미터: ', clf.best_params_)"
      ],
      "execution_count": null,
      "outputs": []
    },
    {
      "cell_type": "code",
      "metadata": {
        "id": "2-f67zzuWWqV"
      },
      "source": [
        "pipe2 = clf.best_estimator_\n",
        "pipe2.fit(X_train,y_train)\n",
        "print('검증 정확도: ', pipe2.score(X_val,y_val))"
      ],
      "execution_count": null,
      "outputs": []
    },
    {
      "cell_type": "code",
      "metadata": {
        "id": "lRl2zUVDdOSx"
      },
      "source": [
        "pd.DataFrame(clf.cv_results_).sort_values(by='rank_test_score').T"
      ],
      "execution_count": null,
      "outputs": []
    },
    {
      "cell_type": "code",
      "metadata": {
        "id": "2ZkWVAEmLdJO"
      },
      "source": [
        "from xgboost import XGBClassifier\n",
        "\n",
        "pipe3 = make_pipeline(\n",
        "    OrdinalEncoder(),\n",
        "    XGBClassifier(random_state=2)\n",
        ")\n",
        "\n",
        "pipe3.fit(X_train, y_train)\n",
        "print('검증 정확도: ', pipe3.score(X_val,y_val))"
      ],
      "execution_count": null,
      "outputs": []
    },
    {
      "cell_type": "code",
      "metadata": {
        "id": "aOvGpNsrfA8y"
      },
      "source": [
        "dists = {\n",
        "    'xgbclassifier__n_estimators': randint(50,500),\n",
        "    'xgbclassifier__colsample_bytree': uniform(0.5,1),\n",
        "    'xgbclassifier__subsample': uniform(0.6,1),\n",
        "    'xgbclassifier__learning_rate': uniform(0,1),\n",
        "    'xgbclassifier__max_depth': [5, 10, 15, 20, None], \n",
        "}\n",
        "\n",
        "clf = RandomizedSearchCV(\n",
        "    pipe3,\n",
        "    param_distributions=dists,\n",
        "    n_iter=50,\n",
        "    cv=3,\n",
        "    scoring='accuracy',\n",
        "    verbose=1,\n",
        "    n_jobs=-1\n",
        ")\n",
        "\n",
        "clf.fit(X_train,y_train);"
      ],
      "execution_count": null,
      "outputs": []
    },
    {
      "cell_type": "code",
      "metadata": {
        "id": "by5lB8f9XyyQ"
      },
      "source": [
        "pipe3 = clf.best_estimator_\n",
        "pipe3.fit(X_train,y_train)\n",
        "print('검증 정확도: ', pipe3.score(X_val,y_val))"
      ],
      "execution_count": null,
      "outputs": []
    },
    {
      "cell_type": "code",
      "metadata": {
        "id": "1n5GTDVSlFX8"
      },
      "source": [
        ""
      ],
      "execution_count": null,
      "outputs": []
    }
  ]
}