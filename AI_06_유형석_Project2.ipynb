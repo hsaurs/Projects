{
  "nbformat": 4,
  "nbformat_minor": 0,
  "metadata": {
    "colab": {
      "name": "AI_06_유형석_Project2.ipynb",
      "private_outputs": true,
      "provenance": [],
      "authorship_tag": "ABX9TyN3oPaSR4LSL5cIk5oGnyij",
      "include_colab_link": true
    },
    "kernelspec": {
      "name": "python3",
      "display_name": "Python 3"
    },
    "language_info": {
      "name": "python"
    }
  },
  "cells": [
    {
      "cell_type": "markdown",
      "metadata": {
        "id": "view-in-github",
        "colab_type": "text"
      },
      "source": [
        "<a href=\"https://colab.research.google.com/github/hsaurs/Projects/blob/main/AI_06_%EC%9C%A0%ED%98%95%EC%84%9D_Project2.ipynb\" target=\"_parent\"><img src=\"https://colab.research.google.com/assets/colab-badge.svg\" alt=\"Open In Colab\"/></a>"
      ]
    },
    {
      "cell_type": "code",
      "metadata": {
        "id": "uPIrXN4CKuiJ"
      },
      "source": [
        "!pip install category_encoders==2.*\n",
        "!pip install eli5\n",
        "!pip install pandas-profiling==2.*\n",
        "!pip install pdpbox\n",
        "!pip install shap"
      ],
      "execution_count": null,
      "outputs": []
    },
    {
      "cell_type": "code",
      "metadata": {
        "id": "uK9xdHcy1gqN"
      },
      "source": [
        "import pandas as pd\n",
        "import numpy as np\n",
        "import sklearn"
      ],
      "execution_count": null,
      "outputs": []
    },
    {
      "cell_type": "code",
      "metadata": {
        "id": "7iFSxLME8vv-"
      },
      "source": [
        "!wget https://archive.ics.uci.edu/ml/machine-learning-databases/adult/adult.data\n",
        "names = ['age', 'workclass', 'fnlwgt', 'education', 'education num', \n",
        "                 'marital status', 'occupation', 'relationship', 'race', 'sex', \n",
        "                 'capital gain', 'capital loss', 'hours per week', \n",
        "                 'native country', 'income']\n",
        "df = pd.read_csv('adult.data', header=None, names=names,na_values=['?', ' ?'])"
      ],
      "execution_count": null,
      "outputs": []
    },
    {
      "cell_type": "code",
      "metadata": {
        "id": "HxIHv21p0V1m"
      },
      "source": [
        "df.shape"
      ],
      "execution_count": null,
      "outputs": []
    },
    {
      "cell_type": "code",
      "metadata": {
        "id": "yXMFd_lizTGD"
      },
      "source": [
        "df.isna().sum()"
      ],
      "execution_count": null,
      "outputs": []
    },
    {
      "cell_type": "code",
      "metadata": {
        "id": "xMrqgZ1t0JYq"
      },
      "source": [
        "df = df.dropna()\n",
        "df.reset_index(drop=True,inplace=True)\n",
        "df.isna().sum()"
      ],
      "execution_count": null,
      "outputs": []
    },
    {
      "cell_type": "code",
      "metadata": {
        "id": "4kJEAE-aE4dO"
      },
      "source": [
        "df.duplicated().sum()"
      ],
      "execution_count": null,
      "outputs": []
    },
    {
      "cell_type": "code",
      "metadata": {
        "id": "AWtU6QZ7E7mx"
      },
      "source": [
        "df = df.drop_duplicates()\n",
        "df.duplicated().sum()"
      ],
      "execution_count": null,
      "outputs": []
    },
    {
      "cell_type": "code",
      "metadata": {
        "id": "haLH_6J6FQkY"
      },
      "source": [
        "df.shape"
      ],
      "execution_count": null,
      "outputs": []
    },
    {
      "cell_type": "code",
      "metadata": {
        "id": "2zNdonjXFT6J"
      },
      "source": [
        "df.head(4)"
      ],
      "execution_count": null,
      "outputs": []
    },
    {
      "cell_type": "code",
      "metadata": {
        "id": "jqrrpH8lD2Un"
      },
      "source": [
        "df.describe()"
      ],
      "execution_count": null,
      "outputs": []
    },
    {
      "cell_type": "code",
      "metadata": {
        "id": "aSp4HSR-1otd"
      },
      "source": [
        "df.columns"
      ],
      "execution_count": null,
      "outputs": []
    },
    {
      "cell_type": "code",
      "metadata": {
        "id": "0COXsFJj49Qp"
      },
      "source": [
        "columns = ['workclass', 'education', 'marital status', \n",
        "           'occupation', 'relationship', 'race', 'sex',\n",
        "           'native country']"
      ],
      "execution_count": null,
      "outputs": []
    },
    {
      "cell_type": "code",
      "metadata": {
        "id": "d32RBjxOsuW9"
      },
      "source": [
        "df.describe(exclude='number').T.sort_values(by='unique')"
      ],
      "execution_count": null,
      "outputs": []
    },
    {
      "cell_type": "code",
      "metadata": {
        "id": "CInoUb0O31a9"
      },
      "source": [
        "for i in columns:\n",
        "    print(i,\":\",df[i].nunique(), np.unique(df[i]))"
      ],
      "execution_count": null,
      "outputs": []
    },
    {
      "cell_type": "code",
      "metadata": {
        "id": "KeZ_MpzoTuzt"
      },
      "source": [
        "for i in columns:\n",
        "    df[i] =  df[i].str.replace(pat=r'[^\\w]', repl=r'', regex=True)"
      ],
      "execution_count": null,
      "outputs": []
    },
    {
      "cell_type": "code",
      "metadata": {
        "id": "lLqqCzx2VRlP"
      },
      "source": [
        "for i in columns:\n",
        "    print(i,\":\",df[i].nunique(), np.unique(df[i]))"
      ],
      "execution_count": null,
      "outputs": []
    },
    {
      "cell_type": "code",
      "metadata": {
        "id": "pWm-REXt_Qg0"
      },
      "source": [
        "df['Income'] = df['income'] == ' >50K'\n",
        "df['Income'].nunique()"
      ],
      "execution_count": null,
      "outputs": []
    },
    {
      "cell_type": "code",
      "metadata": {
        "id": "asNEon3_HtBr"
      },
      "source": [
        "df['Income'].value_counts()"
      ],
      "execution_count": null,
      "outputs": []
    },
    {
      "cell_type": "code",
      "metadata": {
        "id": "yMr1XK3W2Ipz"
      },
      "source": [
        "##  baseline\n",
        "\n",
        "22633/(22633+7506)"
      ],
      "execution_count": null,
      "outputs": []
    },
    {
      "cell_type": "code",
      "metadata": {
        "id": "102ypfElPrWF"
      },
      "source": [
        "df['Income'] = df['Income']*1"
      ],
      "execution_count": null,
      "outputs": []
    },
    {
      "cell_type": "code",
      "metadata": {
        "id": "2oCzScTb7sGT"
      },
      "source": [
        "from sklearn.model_selection import train_test_split\n",
        "train, val = train_test_split(df,test_size=.2, random_state=2)\n",
        "train.shape, val.shape"
      ],
      "execution_count": null,
      "outputs": []
    },
    {
      "cell_type": "code",
      "metadata": {
        "id": "c1me00wb8wgx"
      },
      "source": [
        "feature = ['age','fnlwgt','education num','capital gain','capital loss','hours per week','Income']\n",
        "for i in feature:\n",
        "    df[i] = df[i].astype(float)"
      ],
      "execution_count": null,
      "outputs": []
    },
    {
      "cell_type": "code",
      "metadata": {
        "id": "HAFSpMFaMdYi"
      },
      "source": [
        "from category_encoders import OrdinalEncoder\n",
        "from sklearn.pipeline import make_pipeline\n",
        "\n",
        "target = 'Income'\n",
        "features = df.columns.drop([target,'income'])\n",
        "X_train = train[features]\n",
        "y_train = train[target]\n",
        "X_val = val[features]\n",
        "y_val = val[target]"
      ],
      "execution_count": null,
      "outputs": []
    },
    {
      "cell_type": "code",
      "metadata": {
        "id": "PlBv9iuNJWyf"
      },
      "source": [
        "## 1. DecisionTreeClassifier Model\n",
        "\n",
        "from sklearn.tree import DecisionTreeClassifier\n",
        "\n",
        "pipe1 = make_pipeline(\n",
        "    OrdinalEncoder(),\n",
        "    DecisionTreeClassifier(min_samples_leaf=10,max_depth=5,random_state=2)\n",
        ")\n",
        "\n",
        "pipe1.fit(X_train, y_train)\n",
        "print('훈련 정확도: ', pipe1.score(X_train, y_train))\n",
        "print('검증 정확도: ', pipe1.score(X_val,y_val))"
      ],
      "execution_count": null,
      "outputs": []
    },
    {
      "cell_type": "code",
      "metadata": {
        "id": "HSj4EmSjuAKh"
      },
      "source": [
        "## RandomizedSearchCV 사용 Hyperparameters 조정\n",
        "\n",
        "from sklearn.model_selection import RandomizedSearchCV\n",
        "from scipy.stats import randint, uniform\n",
        "\n",
        "dists = {\n",
        "    'decisiontreeclassifier__min_samples_leaf': randint(1, 50),\n",
        "    'decisiontreeclassifier__max_depth': randint(5,10),\n",
        "    'decisiontreeclassifier__min_samples_split': randint(1, 5),\n",
        "    'decisiontreeclassifier__max_features': uniform(0, 1)\n",
        "}\n",
        "\n",
        "clf1 = RandomizedSearchCV(\n",
        "    pipe1,\n",
        "    param_distributions=dists,\n",
        "    n_iter=50,\n",
        "    cv=3,\n",
        "    scoring='accuracy',\n",
        "    verbose=1,\n",
        "    n_jobs=-1\n",
        ")\n",
        "\n",
        "clf1.fit(X_train,y_train);\n",
        "print('최적 하이퍼파라미터: ', clf1.best_params_)"
      ],
      "execution_count": null,
      "outputs": []
    },
    {
      "cell_type": "code",
      "metadata": {
        "id": "_Efc8TwDuw3d"
      },
      "source": [
        "## Hyperparameters 조정된 모델 재학습 및 검증 정확도 산출 \n",
        "\n",
        "pipe1 = clf1.best_estimator_\n",
        "pipe1.fit(X_train,y_train)\n",
        "print('훈련 정확도: ', pipe1.score(X_train, y_train))\n",
        "print('검증 정확도: ', pipe1.score(X_val,y_val))"
      ],
      "execution_count": null,
      "outputs": []
    },
    {
      "cell_type": "code",
      "metadata": {
        "id": "jw66IxlXvlGI"
      },
      "source": [
        "## DecisionTree 특성 중요도\n",
        "\n",
        "import matplotlib.pyplot as plt\n",
        "\n",
        "n= 10\n",
        "rf = pipe1.named_steps['decisiontreeclassifier']\n",
        "importances = pd.Series(rf.feature_importances_, X_train.columns)\n",
        "\n",
        "plt.figure(figsize=(10,n/4))\n",
        "plt.title(f'Top {n} features')\n",
        "importances.sort_values()[-n:].plot.barh();"
      ],
      "execution_count": null,
      "outputs": []
    },
    {
      "cell_type": "code",
      "metadata": {
        "id": "2zp2WT1uKxN5"
      },
      "source": [
        "## 2. RandomForestClassifier Model\n",
        "\n",
        "from sklearn.ensemble import RandomForestClassifier\n",
        "\n",
        "pipe2 = make_pipeline(\n",
        "    OrdinalEncoder(),\n",
        "    RandomForestClassifier(random_state=2)\n",
        ")\n",
        "\n",
        "pipe2.fit(X_train, y_train)\n",
        "print('훈련 정확도: ', pipe2.score(X_train, y_train))\n",
        "print('검증 정확도: ', pipe2.score(X_val,y_val))"
      ],
      "execution_count": null,
      "outputs": []
    },
    {
      "cell_type": "code",
      "metadata": {
        "id": "IkO3yDhoSkmo"
      },
      "source": [
        "## RandomizedSearchCV 사용 Hyperparameters 조정\n",
        "\n",
        "dists = {\n",
        "    'randomforestclassifier__n_estimators': randint(50, 500),\n",
        "    'randomforestclassifier__max_depth': [5, 10, 15, 20, None], \n",
        "    'randomforestclassifier__max_features': uniform(0, 1)\n",
        "}\n",
        "\n",
        "clf2 = RandomizedSearchCV(\n",
        "    pipe2,\n",
        "    param_distributions=dists,\n",
        "    n_iter=50,\n",
        "    cv=3,\n",
        "    scoring='accuracy',\n",
        "    verbose=1,\n",
        "    n_jobs=-1\n",
        ")\n",
        "\n",
        "clf2.fit(X_train,y_train);\n",
        "print('최적 하이퍼파라미터: ', clf2.best_params_)"
      ],
      "execution_count": null,
      "outputs": []
    },
    {
      "cell_type": "code",
      "metadata": {
        "id": "2-f67zzuWWqV"
      },
      "source": [
        "## Hyperparameters 조정된 모델 재학습 및 검증 정확도 산출 \n",
        "\n",
        "pipe2 = clf2.best_estimator_\n",
        "pipe2.fit(X_train,y_train)\n",
        "print('훈련 정확도: ', pipe2.score(X_train, y_train))\n",
        "print('검증 정확도: ', pipe2.score(X_val,y_val))"
      ],
      "execution_count": null,
      "outputs": []
    },
    {
      "cell_type": "code",
      "metadata": {
        "id": "SgHRp9R-q0Hw"
      },
      "source": [
        "## RandomForest 특성 중요도\n",
        "\n",
        "import matplotlib.pyplot as plt\n",
        "\n",
        "n= 10\n",
        "rf = pipe2.named_steps['randomforestclassifier']\n",
        "importances = pd.Series(rf.feature_importances_, X_train.columns)\n",
        "\n",
        "plt.figure(figsize=(10,n/4))\n",
        "plt.title(f'Top {n} features')\n",
        "importances.sort_values()[-n:].plot.barh();"
      ],
      "execution_count": null,
      "outputs": []
    },
    {
      "cell_type": "code",
      "metadata": {
        "id": "2ZkWVAEmLdJO"
      },
      "source": [
        "##3. Gradient Boosting Model\n",
        "\n",
        "from xgboost import XGBClassifier\n",
        "\n",
        "pipe3 = make_pipeline(\n",
        "    OrdinalEncoder(),\n",
        "    XGBClassifier(random_state=2)\n",
        ")\n",
        "\n",
        "pipe3.fit(X_train, y_train)\n",
        "print('훈련 정확도: ', pipe3.score(X_train, y_train))\n",
        "print('검증 정확도: ', pipe3.score(X_val,y_val))"
      ],
      "execution_count": null,
      "outputs": []
    },
    {
      "cell_type": "code",
      "metadata": {
        "id": "aOvGpNsrfA8y"
      },
      "source": [
        "## RandomizedSearchCV 통해 Hyperparameters 조정\n",
        "\n",
        "dists = {\n",
        "    'xgbclassifier__n_estimators': randint(50,500),\n",
        "    'xgbclassifier__colsample_bytree': uniform(0.5,1),\n",
        "    'xgbclassifier__subsample': uniform(0.6,1),\n",
        "    'xgbclassifier__learning_rate': uniform(0,1),\n",
        "    'xgbclassifier__max_depth': [5, 10, 15, 20, None], \n",
        "}\n",
        "\n",
        "clf3 = RandomizedSearchCV(\n",
        "    pipe3,\n",
        "    param_distributions=dists,\n",
        "    n_iter=50,\n",
        "    cv=3,\n",
        "    scoring='accuracy',\n",
        "    verbose=1,\n",
        "    n_jobs=-1\n",
        ")\n",
        "\n",
        "clf3.fit(X_train,y_train);\n",
        "print('최적 하이퍼파라미터: ', clf3.best_params_)"
      ],
      "execution_count": null,
      "outputs": []
    },
    {
      "cell_type": "code",
      "metadata": {
        "id": "by5lB8f9XyyQ"
      },
      "source": [
        "## Hyperparameters 조정된 모델 재학습 및 검증 정확도 산출 \n",
        "\n",
        "pipe3 = clf3.best_estimator_\n",
        "pipe3.fit(X_train,y_train)\n",
        "print('훈련 정확도: ', pipe3.score(X_train, y_train))\n",
        "print('검증 정확도: ', pipe3.score(X_val,y_val))"
      ],
      "execution_count": null,
      "outputs": []
    },
    {
      "cell_type": "code",
      "metadata": {
        "id": "1n5GTDVSlFX8"
      },
      "source": [
        "## XGBoost 특성 중요도\n",
        "\n",
        "n= 10\n",
        "rf = pipe3.named_steps['xgbclassifier']\n",
        "importances = pd.Series(rf.feature_importances_, X_train.columns)\n",
        "\n",
        "plt.figure(figsize=(10,n/4))\n",
        "plt.title(f'Top {n} features')\n",
        "importances.sort_values()[-n:].plot.barh();"
      ],
      "execution_count": null,
      "outputs": []
    },
    {
      "cell_type": "code",
      "metadata": {
        "id": "m38GZWUG9aWV"
      },
      "source": [
        "y_pred_proba = pipe3.predict_proba(X_val)[:, -1]\n",
        "print('AUC score: ', sklearn.metrics.roc_auc_score(y_val, y_pred_proba))"
      ],
      "execution_count": null,
      "outputs": []
    },
    {
      "cell_type": "code",
      "metadata": {
        "id": "kPTL6pZb23FT"
      },
      "source": [
        "from sklearn.metrics import roc_auc_score\n",
        "from sklearn.metrics import roc_curve\n",
        "\n",
        "fpr, tpr, thresholds = roc_curve(y_val, y_pred_proba)\n",
        "\n",
        "roc = pd.DataFrame({\n",
        "    'FPR(Fall-out)': fpr, \n",
        "    'TPRate(Recall)': tpr, \n",
        "    'Threshold': thresholds\n",
        "})\n",
        "roc"
      ],
      "execution_count": null,
      "outputs": []
    },
    {
      "cell_type": "code",
      "metadata": {
        "id": "pST0Caw13DMb"
      },
      "source": [
        "optimal_idx = np.argmax(tpr - fpr)\n",
        "optimal_threshold = thresholds[optimal_idx]\n",
        "\n",
        "print('idx:', optimal_idx, ', threshold:', optimal_threshold)"
      ],
      "execution_count": null,
      "outputs": []
    },
    {
      "cell_type": "code",
      "metadata": {
        "id": "f1YbcsfZ3SPo"
      },
      "source": [
        "from sklearn.metrics import classification_report\n",
        "\n",
        "y_pred_05 = y_pred_proba >= 0.5\n",
        "print(classification_report(y_val, y_pred_05))"
      ],
      "execution_count": null,
      "outputs": []
    },
    {
      "cell_type": "code",
      "metadata": {
        "id": "25BzQ4qo3Kis"
      },
      "source": [
        "y_pred_optimal = y_pred_proba >= optimal_threshold\n",
        "print(classification_report(y_val, y_pred_optimal))"
      ],
      "execution_count": null,
      "outputs": []
    },
    {
      "cell_type": "code",
      "metadata": {
        "id": "p3JwT6yj3ASF"
      },
      "source": [
        "plt.scatter(fpr, tpr)\n",
        "plt.title('ROC curve')\n",
        "plt.xlabel('FPR(Fall-out)')\n",
        "plt.ylabel('TPR(Recall)');"
      ],
      "execution_count": null,
      "outputs": []
    },
    {
      "cell_type": "code",
      "metadata": {
        "id": "GoIz7sc03Vky"
      },
      "source": [
        "auc_score = roc_auc_score(y_val, y_pred_optimal)\n",
        "auc_score"
      ],
      "execution_count": null,
      "outputs": []
    },
    {
      "cell_type": "code",
      "metadata": {
        "id": "kISfjEL052Kc"
      },
      "source": [
        "auc_score = roc_auc_score(y_val, y_pred_proba)\n",
        "auc_score"
      ],
      "execution_count": null,
      "outputs": []
    },
    {
      "cell_type": "code",
      "metadata": {
        "id": "tdJ4jzsT7cM1"
      },
      "source": [
        "from sklearn.metrics import plot_confusion_matrix\n",
        "import matplotlib.pyplot as plt\n",
        "\n",
        "fig, ax = plt.subplots()\n",
        "pcm = plot_confusion_matrix(pipe3, X_val, y_val,\n",
        "                            cmap=plt.cm.Blues,\n",
        "                            ax=ax,values_format='d');\n",
        "plt.title(f'Confusion matrix, n = {len(y_val)}', fontsize=15)"
      ],
      "execution_count": null,
      "outputs": []
    },
    {
      "cell_type": "code",
      "metadata": {
        "id": "MkqiZsj89fqs"
      },
      "source": [
        "from sklearn.metrics import roc_curve\n",
        "import matplotlib.pyplot as plt\n",
        "\n",
        "fpr, tpr, thresholds = roc_curve(y_val, y_pred_proba)\n",
        "\n",
        "plt.scatter(fpr, tpr, color='blue')\n",
        "plt.plot(fpr, tpr, color='green')\n",
        "plt.title('ROC curve')\n",
        "plt.xlabel('FPR')\n",
        "plt.ylabel('TPR')"
      ],
      "execution_count": null,
      "outputs": []
    },
    {
      "cell_type": "code",
      "metadata": {
        "id": "A7kf78xV8mxq"
      },
      "source": [
        "y_pred = pipe3.predict(X_val)\n",
        "print(classification_report(y_val, y_pred))"
      ],
      "execution_count": null,
      "outputs": []
    },
    {
      "cell_type": "code",
      "metadata": {
        "id": "GjkX3g9BRfdY"
      },
      "source": [
        "from pdpbox.pdp import pdp_isolate, pdp_plot\n",
        "from pdpbox import pdp\n",
        "import warnings\n",
        "warnings.filterwarnings(action='ignore', category=FutureWarning, module='xgboost')\n",
        "import eli5\n",
        "from eli5.sklearn import PermutationImportance\n",
        "import shap"
      ],
      "execution_count": null,
      "outputs": []
    },
    {
      "cell_type": "code",
      "metadata": {
        "id": "kd80OKeR9n_L"
      },
      "source": [
        "y_train.value_counts(normalize=True)\n"
      ],
      "execution_count": null,
      "outputs": []
    },
    {
      "cell_type": "code",
      "metadata": {
        "id": "zh2i0G6L9rG4"
      },
      "source": [
        "custom = len(y_train)/(2*np.bincount(y_train))\n",
        "custom"
      ],
      "execution_count": null,
      "outputs": []
    },
    {
      "cell_type": "code",
      "metadata": {
        "id": "MbVwIFrPSc9n"
      },
      "source": [
        "model = pipe3.fit(X_train,y_train)"
      ],
      "execution_count": null,
      "outputs": []
    },
    {
      "cell_type": "code",
      "metadata": {
        "id": "id3iqOIh1Zlv"
      },
      "source": [
        "df.columns.drop([target,'income'])"
      ],
      "execution_count": null,
      "outputs": []
    },
    {
      "cell_type": "code",
      "metadata": {
        "id": "LTUCIbNV73Oz"
      },
      "source": [
        "df.dtypes"
      ],
      "execution_count": null,
      "outputs": []
    },
    {
      "cell_type": "code",
      "metadata": {
        "id": "UjHWALQ0ACg7"
      },
      "source": [
        "from category_encoders import OrdinalEncoder\n",
        "from sklearn.metrics import r2_score\n",
        "from xgboost import XGBRegressor\n",
        "\n",
        "encoder = OrdinalEncoder()\n",
        "X_train_encoded = encoder.fit_transform(X_train) # 학습데이터\n",
        "X_val_encoded = encoder.transform(X_val) # 검증데이터\n",
        "\n",
        "boosting = XGBRegressor(\n",
        "    n_estimators=1000,\n",
        "    objective='reg:squarederror', # default\n",
        "    learning_rate=0.2,\n",
        "    n_jobs=-1\n",
        ")\n",
        "\n",
        "eval_set = [(X_train_encoded, y_train), \n",
        "            (X_val_encoded, y_val)]\n",
        "\n",
        "boosting.fit(X_train_encoded, y_train, \n",
        "          eval_set=eval_set,\n",
        "          early_stopping_rounds=50\n",
        "         )"
      ],
      "execution_count": null,
      "outputs": []
    },
    {
      "cell_type": "code",
      "metadata": {
        "id": "hOiXjwdgArZS"
      },
      "source": [
        "df.dtypes"
      ],
      "execution_count": null,
      "outputs": []
    },
    {
      "cell_type": "code",
      "metadata": {
        "id": "eCSqE3-5BLee"
      },
      "source": [
        "plt.rcParams['figure.dpi'] = 144\n",
        "for i in ['age','fnlwgt','education num','capital gain','capital loss','hours per week']:\n",
        "    feature = i\n",
        "    isolated = pdp_isolate(\n",
        "        model=pipe3, \n",
        "        dataset=X_val, \n",
        "        model_features=X_val.columns, \n",
        "        feature=feature,\n",
        "        grid_type='percentile', \n",
        "        num_grid_points=10\n",
        "    )\n",
        "    pdp_plot(isolated, feature_name=feature);"
      ],
      "execution_count": null,
      "outputs": []
    },
    {
      "cell_type": "code",
      "metadata": {
        "id": "gRJOTmG5CRDW"
      },
      "source": [
        "from pdpbox.pdp import pdp_interact, pdp_interact_plot\n",
        "\n",
        "features = ['age','hours per week']\n",
        "\n",
        "interaction = pdp_interact(\n",
        "    model=boosting, \n",
        "    dataset=X_val_encoded,\n",
        "    model_features=X_val.columns, \n",
        "    features=features\n",
        ")\n",
        "\n",
        "pdp_interact_plot(interaction, plot_type='grid', \n",
        "                  feature_names=features);"
      ],
      "execution_count": null,
      "outputs": []
    },
    {
      "cell_type": "code",
      "metadata": {
        "id": "5J_HioZsDNaW"
      },
      "source": [
        "interaction.pdp"
      ],
      "execution_count": null,
      "outputs": []
    },
    {
      "cell_type": "code",
      "metadata": {
        "id": "qeTJ6eKADzSk"
      },
      "source": [
        "row = X_val[['age','fnlwgt','education num','capital gain','capital loss','hours per week']].iloc[:500]\n",
        "row.head()"
      ],
      "execution_count": null,
      "outputs": []
    },
    {
      "cell_type": "code",
      "metadata": {
        "id": "LSCpPPmQFVTG"
      },
      "source": [
        "features = df.columns.drop(['Income','income'])\n",
        "target = 'Income'\n",
        "X_train = train[features]\n",
        "y_train = train[target]\n",
        "X_val = val[features]\n",
        "y_val = val[target]"
      ],
      "execution_count": null,
      "outputs": []
    },
    {
      "cell_type": "code",
      "metadata": {
        "id": "x7SXPJH_Q-Of"
      },
      "source": [
        "enc = OrdinalEncoder()\n",
        "X_train = enc.fit_transform(X_train)\n",
        "X_val = enc.fit_transform(X_val)"
      ],
      "execution_count": null,
      "outputs": []
    },
    {
      "cell_type": "code",
      "metadata": {
        "id": "HEe3ebhIKleD"
      },
      "source": [
        "shap_values = explainer.shap_values(X_train.iloc[:500])\n",
        "shap.summary_plot(shap_values, X_train.iloc[:500],plot_type=\"violin\")"
      ],
      "execution_count": null,
      "outputs": []
    },
    {
      "cell_type": "code",
      "metadata": {
        "id": "syvhBdCdSBYK"
      },
      "source": [
        "shap.summary_plot(shap_values, X_train.iloc[:300], plot_type=\"bar\")"
      ],
      "execution_count": null,
      "outputs": []
    }
  ]
}